{
 "cells": [
  {
   "cell_type": "markdown",
   "metadata": {
    "id": "OKB-yZbz3pe5"
   },
   "source": [
    "# Dataset creation"
   ]
  },
  {
   "cell_type": "markdown",
   "metadata": {
    "id": "SnlYCQAU3q64"
   },
   "source": [
    "## Dependencies and imports"
   ]
  },
  {
   "cell_type": "code",
   "execution_count": null,
   "metadata": {
    "id": "FjwYl8i55M1y"
   },
   "outputs": [],
   "source": [
    "import os\n",
    "import re\n",
    "import json\n",
    "import time\n",
    "\n",
    "import pandas as pd\n",
    "from openai import OpenAI\n",
    "\n",
    "from tqdm import tqdm\n",
    "from sklearn.model_selection import train_test_split"
   ]
  },
  {
   "cell_type": "code",
   "execution_count": null,
   "metadata": {
    "colab": {
     "base_uri": "https://localhost:8080/"
    },
    "executionInfo": {
     "elapsed": 7400,
     "status": "ok",
     "timestamp": 1703976180409,
     "user": {
      "displayName": "Marco Russodivito",
      "userId": "05013084347772678948"
     },
     "user_tz": -60
    },
    "id": "jf7qzC1L_QP1",
    "outputId": "89069092-af20-40e2-cac7-b207a41af288"
   },
   "outputs": [
    {
     "name": "stdout",
     "output_type": "stream",
     "text": [
      "Mounted at /content/drive\n"
     ]
    }
   ],
   "source": [
    "PROMPT = 'Semplifica questo testo in maniera che sia comprensibile e chiaro per una persona con la terza media:'"
   ]
  },
  {
   "cell_type": "markdown",
   "metadata": {
    "id": "8mKB-g3h_rk7"
   },
   "source": [
    "## Load raw dataset"
   ]
  },
  {
   "cell_type": "code",
   "execution_count": null,
   "metadata": {
    "colab": {
     "base_uri": "https://localhost:8080/",
     "height": 206
    },
    "executionInfo": {
     "elapsed": 4998,
     "status": "ok",
     "timestamp": 1703976185405,
     "user": {
      "displayName": "Marco Russodivito",
      "userId": "05013084347772678948"
     },
     "user_tz": -60
    },
    "id": "3Ukrt2Pj_vr8",
    "outputId": "4b5d9326-eb29-4257-f437-4414f35af951"
   },
   "outputs": [
    {
     "data": {
      "text/html": [
       "\n",
       "  <div id=\"df-54caef39-a456-433c-a2a8-ad3ab40ebe4a\" class=\"colab-df-container\">\n",
       "    <div>\n",
       "<style scoped>\n",
       "    .dataframe tbody tr th:only-of-type {\n",
       "        vertical-align: middle;\n",
       "    }\n",
       "\n",
       "    .dataframe tbody tr th {\n",
       "        vertical-align: top;\n",
       "    }\n",
       "\n",
       "    .dataframe thead th {\n",
       "        text-align: right;\n",
       "    }\n",
       "</style>\n",
       "<table border=\"1\" class=\"dataframe\">\n",
       "  <thead>\n",
       "    <tr style=\"text-align: right;\">\n",
       "      <th></th>\n",
       "      <th>topic</th>\n",
       "      <th>region</th>\n",
       "      <th>document_type</th>\n",
       "      <th>document_ref</th>\n",
       "      <th>original_text</th>\n",
       "    </tr>\n",
       "  </thead>\n",
       "  <tbody>\n",
       "    <tr>\n",
       "      <th>0</th>\n",
       "      <td>garbage</td>\n",
       "      <td>basilicata</td>\n",
       "      <td>service_charter</td>\n",
       "      <td>a958e53905ca50a2b93e2a1725e08fec</td>\n",
       "      <td>La Carta dei servizi è uno strumento operativo...</td>\n",
       "    </tr>\n",
       "    <tr>\n",
       "      <th>1</th>\n",
       "      <td>garbage</td>\n",
       "      <td>basilicata</td>\n",
       "      <td>service_charter</td>\n",
       "      <td>a958e53905ca50a2b93e2a1725e08fec</td>\n",
       "      <td>Il Comune di Bernalda ha elaborato questa Cart...</td>\n",
       "    </tr>\n",
       "    <tr>\n",
       "      <th>2</th>\n",
       "      <td>garbage</td>\n",
       "      <td>basilicata</td>\n",
       "      <td>service_charter</td>\n",
       "      <td>a958e53905ca50a2b93e2a1725e08fec</td>\n",
       "      <td>I criteri della Carta dei Servizi, sono da con...</td>\n",
       "    </tr>\n",
       "    <tr>\n",
       "      <th>3</th>\n",
       "      <td>garbage</td>\n",
       "      <td>basilicata</td>\n",
       "      <td>service_charter</td>\n",
       "      <td>a958e53905ca50a2b93e2a1725e08fec</td>\n",
       "      <td>I Servizi erogati nel Comune di Bernalda sono ...</td>\n",
       "    </tr>\n",
       "    <tr>\n",
       "      <th>4</th>\n",
       "      <td>garbage</td>\n",
       "      <td>basilicata</td>\n",
       "      <td>service_charter</td>\n",
       "      <td>a958e53905ca50a2b93e2a1725e08fec</td>\n",
       "      <td>Nessuna discriminazione nell'erogazione delle ...</td>\n",
       "    </tr>\n",
       "  </tbody>\n",
       "</table>\n",
       "</div>\n",
       "    <div class=\"colab-df-buttons\">\n",
       "\n",
       "  <div class=\"colab-df-container\">\n",
       "    <button class=\"colab-df-convert\" onclick=\"convertToInteractive('df-54caef39-a456-433c-a2a8-ad3ab40ebe4a')\"\n",
       "            title=\"Convert this dataframe to an interactive table.\"\n",
       "            style=\"display:none;\">\n",
       "\n",
       "  <svg xmlns=\"http://www.w3.org/2000/svg\" height=\"24px\" viewBox=\"0 -960 960 960\">\n",
       "    <path d=\"M120-120v-720h720v720H120Zm60-500h600v-160H180v160Zm220 220h160v-160H400v160Zm0 220h160v-160H400v160ZM180-400h160v-160H180v160Zm440 0h160v-160H620v160ZM180-180h160v-160H180v160Zm440 0h160v-160H620v160Z\"/>\n",
       "  </svg>\n",
       "    </button>\n",
       "\n",
       "  <style>\n",
       "    .colab-df-container {\n",
       "      display:flex;\n",
       "      gap: 12px;\n",
       "    }\n",
       "\n",
       "    .colab-df-convert {\n",
       "      background-color: #E8F0FE;\n",
       "      border: none;\n",
       "      border-radius: 50%;\n",
       "      cursor: pointer;\n",
       "      display: none;\n",
       "      fill: #1967D2;\n",
       "      height: 32px;\n",
       "      padding: 0 0 0 0;\n",
       "      width: 32px;\n",
       "    }\n",
       "\n",
       "    .colab-df-convert:hover {\n",
       "      background-color: #E2EBFA;\n",
       "      box-shadow: 0px 1px 2px rgba(60, 64, 67, 0.3), 0px 1px 3px 1px rgba(60, 64, 67, 0.15);\n",
       "      fill: #174EA6;\n",
       "    }\n",
       "\n",
       "    .colab-df-buttons div {\n",
       "      margin-bottom: 4px;\n",
       "    }\n",
       "\n",
       "    [theme=dark] .colab-df-convert {\n",
       "      background-color: #3B4455;\n",
       "      fill: #D2E3FC;\n",
       "    }\n",
       "\n",
       "    [theme=dark] .colab-df-convert:hover {\n",
       "      background-color: #434B5C;\n",
       "      box-shadow: 0px 1px 3px 1px rgba(0, 0, 0, 0.15);\n",
       "      filter: drop-shadow(0px 1px 2px rgba(0, 0, 0, 0.3));\n",
       "      fill: #FFFFFF;\n",
       "    }\n",
       "  </style>\n",
       "\n",
       "    <script>\n",
       "      const buttonEl =\n",
       "        document.querySelector('#df-54caef39-a456-433c-a2a8-ad3ab40ebe4a button.colab-df-convert');\n",
       "      buttonEl.style.display =\n",
       "        google.colab.kernel.accessAllowed ? 'block' : 'none';\n",
       "\n",
       "      async function convertToInteractive(key) {\n",
       "        const element = document.querySelector('#df-54caef39-a456-433c-a2a8-ad3ab40ebe4a');\n",
       "        const dataTable =\n",
       "          await google.colab.kernel.invokeFunction('convertToInteractive',\n",
       "                                                    [key], {});\n",
       "        if (!dataTable) return;\n",
       "\n",
       "        const docLinkHtml = 'Like what you see? Visit the ' +\n",
       "          '<a target=\"_blank\" href=https://colab.research.google.com/notebooks/data_table.ipynb>data table notebook</a>'\n",
       "          + ' to learn more about interactive tables.';\n",
       "        element.innerHTML = '';\n",
       "        dataTable['output_type'] = 'display_data';\n",
       "        await google.colab.output.renderOutput(dataTable, element);\n",
       "        const docLink = document.createElement('div');\n",
       "        docLink.innerHTML = docLinkHtml;\n",
       "        element.appendChild(docLink);\n",
       "      }\n",
       "    </script>\n",
       "  </div>\n",
       "\n",
       "\n",
       "<div id=\"df-e2daaddd-e093-422d-81e0-204fba04e554\">\n",
       "  <button class=\"colab-df-quickchart\" onclick=\"quickchart('df-e2daaddd-e093-422d-81e0-204fba04e554')\"\n",
       "            title=\"Suggest charts\"\n",
       "            style=\"display:none;\">\n",
       "\n",
       "<svg xmlns=\"http://www.w3.org/2000/svg\" height=\"24px\"viewBox=\"0 0 24 24\"\n",
       "     width=\"24px\">\n",
       "    <g>\n",
       "        <path d=\"M19 3H5c-1.1 0-2 .9-2 2v14c0 1.1.9 2 2 2h14c1.1 0 2-.9 2-2V5c0-1.1-.9-2-2-2zM9 17H7v-7h2v7zm4 0h-2V7h2v10zm4 0h-2v-4h2v4z\"/>\n",
       "    </g>\n",
       "</svg>\n",
       "  </button>\n",
       "\n",
       "<style>\n",
       "  .colab-df-quickchart {\n",
       "      --bg-color: #E8F0FE;\n",
       "      --fill-color: #1967D2;\n",
       "      --hover-bg-color: #E2EBFA;\n",
       "      --hover-fill-color: #174EA6;\n",
       "      --disabled-fill-color: #AAA;\n",
       "      --disabled-bg-color: #DDD;\n",
       "  }\n",
       "\n",
       "  [theme=dark] .colab-df-quickchart {\n",
       "      --bg-color: #3B4455;\n",
       "      --fill-color: #D2E3FC;\n",
       "      --hover-bg-color: #434B5C;\n",
       "      --hover-fill-color: #FFFFFF;\n",
       "      --disabled-bg-color: #3B4455;\n",
       "      --disabled-fill-color: #666;\n",
       "  }\n",
       "\n",
       "  .colab-df-quickchart {\n",
       "    background-color: var(--bg-color);\n",
       "    border: none;\n",
       "    border-radius: 50%;\n",
       "    cursor: pointer;\n",
       "    display: none;\n",
       "    fill: var(--fill-color);\n",
       "    height: 32px;\n",
       "    padding: 0;\n",
       "    width: 32px;\n",
       "  }\n",
       "\n",
       "  .colab-df-quickchart:hover {\n",
       "    background-color: var(--hover-bg-color);\n",
       "    box-shadow: 0 1px 2px rgba(60, 64, 67, 0.3), 0 1px 3px 1px rgba(60, 64, 67, 0.15);\n",
       "    fill: var(--button-hover-fill-color);\n",
       "  }\n",
       "\n",
       "  .colab-df-quickchart-complete:disabled,\n",
       "  .colab-df-quickchart-complete:disabled:hover {\n",
       "    background-color: var(--disabled-bg-color);\n",
       "    fill: var(--disabled-fill-color);\n",
       "    box-shadow: none;\n",
       "  }\n",
       "\n",
       "  .colab-df-spinner {\n",
       "    border: 2px solid var(--fill-color);\n",
       "    border-color: transparent;\n",
       "    border-bottom-color: var(--fill-color);\n",
       "    animation:\n",
       "      spin 1s steps(1) infinite;\n",
       "  }\n",
       "\n",
       "  @keyframes spin {\n",
       "    0% {\n",
       "      border-color: transparent;\n",
       "      border-bottom-color: var(--fill-color);\n",
       "      border-left-color: var(--fill-color);\n",
       "    }\n",
       "    20% {\n",
       "      border-color: transparent;\n",
       "      border-left-color: var(--fill-color);\n",
       "      border-top-color: var(--fill-color);\n",
       "    }\n",
       "    30% {\n",
       "      border-color: transparent;\n",
       "      border-left-color: var(--fill-color);\n",
       "      border-top-color: var(--fill-color);\n",
       "      border-right-color: var(--fill-color);\n",
       "    }\n",
       "    40% {\n",
       "      border-color: transparent;\n",
       "      border-right-color: var(--fill-color);\n",
       "      border-top-color: var(--fill-color);\n",
       "    }\n",
       "    60% {\n",
       "      border-color: transparent;\n",
       "      border-right-color: var(--fill-color);\n",
       "    }\n",
       "    80% {\n",
       "      border-color: transparent;\n",
       "      border-right-color: var(--fill-color);\n",
       "      border-bottom-color: var(--fill-color);\n",
       "    }\n",
       "    90% {\n",
       "      border-color: transparent;\n",
       "      border-bottom-color: var(--fill-color);\n",
       "    }\n",
       "  }\n",
       "</style>\n",
       "\n",
       "  <script>\n",
       "    async function quickchart(key) {\n",
       "      const quickchartButtonEl =\n",
       "        document.querySelector('#' + key + ' button');\n",
       "      quickchartButtonEl.disabled = true;  // To prevent multiple clicks.\n",
       "      quickchartButtonEl.classList.add('colab-df-spinner');\n",
       "      try {\n",
       "        const charts = await google.colab.kernel.invokeFunction(\n",
       "            'suggestCharts', [key], {});\n",
       "      } catch (error) {\n",
       "        console.error('Error during call to suggestCharts:', error);\n",
       "      }\n",
       "      quickchartButtonEl.classList.remove('colab-df-spinner');\n",
       "      quickchartButtonEl.classList.add('colab-df-quickchart-complete');\n",
       "    }\n",
       "    (() => {\n",
       "      let quickchartButtonEl =\n",
       "        document.querySelector('#df-e2daaddd-e093-422d-81e0-204fba04e554 button');\n",
       "      quickchartButtonEl.style.display =\n",
       "        google.colab.kernel.accessAllowed ? 'block' : 'none';\n",
       "    })();\n",
       "  </script>\n",
       "</div>\n",
       "    </div>\n",
       "  </div>\n"
      ],
      "text/plain": [
       "     topic      region    document_type                      document_ref  \\\n",
       "0  garbage  basilicata  service_charter  a958e53905ca50a2b93e2a1725e08fec   \n",
       "1  garbage  basilicata  service_charter  a958e53905ca50a2b93e2a1725e08fec   \n",
       "2  garbage  basilicata  service_charter  a958e53905ca50a2b93e2a1725e08fec   \n",
       "3  garbage  basilicata  service_charter  a958e53905ca50a2b93e2a1725e08fec   \n",
       "4  garbage  basilicata  service_charter  a958e53905ca50a2b93e2a1725e08fec   \n",
       "\n",
       "                                       original_text  \n",
       "0  La Carta dei servizi è uno strumento operativo...  \n",
       "1  Il Comune di Bernalda ha elaborato questa Cart...  \n",
       "2  I criteri della Carta dei Servizi, sono da con...  \n",
       "3  I Servizi erogati nel Comune di Bernalda sono ...  \n",
       "4  Nessuna discriminazione nell'erogazione delle ...  "
      ]
     },
     "execution_count": 19,
     "metadata": {},
     "output_type": "execute_result"
    }
   ],
   "source": [
    "corpus = pd.read_excel(f'./corpus/corpus.xlsx')\n",
    "corpus.head()"
   ]
  },
  {
   "cell_type": "code",
   "execution_count": null,
   "metadata": {
    "id": "3f4mAfL_AUDz"
   },
   "outputs": [],
   "source": [
    "dataset = []\n",
    "if os.path.exists(f'./dataset/dataset.json'):\n",
    "  dataset = json.load(open(f'./dataset/dataset.json', 'r', encoding='utf-8'))\n",
    "else:\n",
    "  dataset = corpus.to_dict(orient='records')"
   ]
  },
  {
   "cell_type": "markdown",
   "metadata": {
    "id": "MOkO_Fl1Cf0N"
   },
   "source": [
    "## OpenAI simplification functions"
   ]
  },
  {
   "cell_type": "code",
   "execution_count": null,
   "metadata": {
    "id": "wGD4q9ZJyyA1"
   },
   "outputs": [],
   "source": [
    "client = OpenAI(\n",
    "  api_key=os.getenv('OPENAI_API_KEY')\n",
    ")"
   ]
  },
  {
   "cell_type": "code",
   "execution_count": null,
   "metadata": {
    "id": "5dcXY9JyCxeb"
   },
   "outputs": [],
   "source": [
    "def simplify_openai(message):\n",
    "  try:\n",
    "    response = client.chat.completions.create(\n",
    "      model=\"gpt-3.5-turbo-1106\",\n",
    "      messages=[\n",
    "        {\n",
    "          \"role\": \"system\",\n",
    "          \"content\": PROMPT\n",
    "        },\n",
    "        {\n",
    "          \"role\": \"user\",\n",
    "          \"content\": message\n",
    "        }\n",
    "      ],\n",
    "      temperature=0.7,\n",
    "      max_tokens=258,\n",
    "      top_p=1.0,\n",
    "      frequency_penalty=0.0,\n",
    "      presence_penalty=0.0\n",
    "    )\n",
    "    # print(response)\n",
    "    text = response.choices[0].message.content\n",
    "    return text\n",
    "  except Exception as e:\n",
    "    print(e)\n",
    "    return ''"
   ]
  },
  {
   "cell_type": "markdown",
   "metadata": {
    "id": "KBQVGFLSyt7v"
   },
   "source": [
    "## Few examples"
   ]
  },
  {
   "cell_type": "code",
   "execution_count": null,
   "metadata": {
    "colab": {
     "base_uri": "https://localhost:8080/"
    },
    "executionInfo": {
     "elapsed": 2078,
     "status": "ok",
     "timestamp": 1703976187967,
     "user": {
      "displayName": "Marco Russodivito",
      "userId": "05013084347772678948"
     },
     "user_tz": -60
    },
    "id": "yFJtShr6IN4w",
    "outputId": "44ef86e2-2abf-4025-8206-b2c1eefec7e3"
   },
   "outputs": [
    {
     "name": "stdout",
     "output_type": "stream",
     "text": [
      "La Carta dei servizi è un documento che indica come devono essere forniti i servizi pubblici e come i cittadini devono essere protetti. Il Comune di Bernalda ha creato questa carta per garantire che i servizi offerti siano di buona qualità e prevede controlli per proteggere i cittadini. I criteri della Carta valgono in condizioni normali, ma non in situazioni straordinarie come eventi naturali eccezionali, scioperi o atti dell'autorità pubblica. I servizi offerti nel Comune di Bernalda devono rispettare i principi stabiliti dalla direttiva del Presidente del Consiglio dei Ministri del 27 gennaio 1994.\n"
     ]
    }
   ],
   "source": [
    "input = '''\n",
    "La Carta dei servizi è uno strumento operativo voluto da una direttiva della Presidenza del Consiglio dei Ministri del 27 gennaio 1994 che definisce i principi che devono regolare la fornitura dei servizi pubblici, individuando gli strumenti per l'attuazione e le modalità per la tutela dei cittadini-utenti.\n",
    "Il Comune di Bernalda ha elaborato questa Carta dei Servizi fissando criteri di prestazione e standard di qualità degli stessi prevedendo idonei strumenti di controllo e di verifica per la tutela dei propri clienti. I criteri della Carta dei Servizi, sono da considerare validi in condizioni normali di esercizio e non in situazioni straordinarie dovute ad eventi naturali eccezionali, eventi causati da terzi, scioperi (diretti o indiretti) o atti dell'Autorità pubblica. I Servizi erogati nel Comune di Bernalda sono gestiti nel rispetto dei seguenti principi generali previsti dalla direttiva del Presidente del Consiglio dei Ministri del 27.01.1994 in materia di erogazione dei servizi pubblici.\n",
    "'''\n",
    "\n",
    "print(simplify_openai(input))"
   ]
  },
  {
   "cell_type": "code",
   "execution_count": null,
   "metadata": {
    "colab": {
     "base_uri": "https://localhost:8080/"
    },
    "executionInfo": {
     "elapsed": 2203,
     "status": "ok",
     "timestamp": 1703976190168,
     "user": {
      "displayName": "Marco Russodivito",
      "userId": "05013084347772678948"
     },
     "user_tz": -60
    },
    "id": "y9Sbh1Q2vtbU",
    "outputId": "fe4af507-2495-42c4-819a-ca0d4245ed84"
   },
   "outputs": [
    {
     "name": "stdout",
     "output_type": "stream",
     "text": [
      "Se hai pagato una bolletta e c'è un errore nella fatturazione, ASA SpA ti informerà sulle correzioni entro i tempi previsti. Se l'errore è legato a una richiesta di verifica del contatore, verrà seguito quanto indicato nell'articolo successivo riguardante la verifica del contatore.\n"
     ]
    }
   ],
   "source": [
    "input = '''\n",
    "In caso di rettifica di fatturazione per le bollette pagate:\n",
    "- se dovuta ad errori di fatturazione, ASA SpA provvederà alla comunicazione dell’esito della rettifica entro i tempi previsti di cui sopra;\n",
    "- se dovute a richieste di verifica del contatore, si procederà secondo quanto previsto al successivo Art.4.3.4 Verifica del contatore.\n",
    "'''\n",
    "\n",
    "print(simplify_openai(input))"
   ]
  },
  {
   "cell_type": "code",
   "execution_count": null,
   "metadata": {
    "colab": {
     "base_uri": "https://localhost:8080/"
    },
    "executionInfo": {
     "elapsed": 1132,
     "status": "ok",
     "timestamp": 1703976191298,
     "user": {
      "displayName": "Marco Russodivito",
      "userId": "05013084347772678948"
     },
     "user_tz": -60
    },
    "id": "FyLjyS0Mya3U",
    "outputId": "7fb8cf44-9c96-453e-e579-18a9737059d9"
   },
   "outputs": [
    {
     "name": "stdout",
     "output_type": "stream",
     "text": [
      "Per proteggere la salute delle persone e delle comunità, è importante creare ambienti e comunità che siano forti e capaci di affrontare nuove situazioni difficili. È fondamentale che chi guida l'amministrazione, chi lavora negli ospedali e i cittadini stessi si sentano responsabili di fare scelte che favoriscano la salute. In questo modo si può anche ridurre il rischio di malattie croniche non trasmissibili.\n"
     ]
    }
   ],
   "source": [
    "input = '''\n",
    "Uno dei fattori chiave per la tutela e promozione della salute individuale e di comunità è quello di creare comunità resilienti e ambienti favorevoli, in grado di reagire a situazioni nuove o avverse. Appare dunque essenziale responsabilizzare prima di tutto chi è alla guida dell'amministrazione nelle scelte allocative, poi coloro che operano nelle strutture sanitarie e infine i cittadini nell'adozione di corretti stili di vita al fine anche di ridurre il carico prevedibile e prevenibile di malattie croniche non trasmissibili.\n",
    "'''\n",
    "\n",
    "print(simplify_openai(input))"
   ]
  },
  {
   "cell_type": "code",
   "execution_count": null,
   "metadata": {
    "colab": {
     "base_uri": "https://localhost:8080/"
    },
    "executionInfo": {
     "elapsed": 1193,
     "status": "ok",
     "timestamp": 1703976192490,
     "user": {
      "displayName": "Marco Russodivito",
      "userId": "05013084347772678948"
     },
     "user_tz": -60
    },
    "id": "0ZWIY9Q_ymPV",
    "outputId": "b956879b-a3c1-4ca7-d509-7e3d036867b4"
   },
   "outputs": [
    {
     "name": "stdout",
     "output_type": "stream",
     "text": [
      "Il servizio di medicina generale offre:\n",
      "- Cura di base per problemi di salute comuni;\n",
      "- Assistenza medica urgente;\n",
      "- Accoglienza e assistenza per nuovi pazienti;\n",
      "- Certificati medici per i detenuti;\n",
      "- Assistenza medica legale per la Polizia Penitenziaria e i detenuti in casi urgenti.\n"
     ]
    }
   ],
   "source": [
    "input = '''\n",
    "Il servizio di medicina generale assicura:\n",
    "- Le prestazioni di base;\n",
    "- Le urgenze cliniche;\n",
    "- Il servizio accoglienza nuovi giunti;\n",
    "- Certificazioni mediche in uso nell'ambito penitenziario;\n",
    "- Le prestazioni medico-legali a favore della Polizia Penitenziaria e della popolazione detenuta in caso di assenza del responsabile e non procrastinabili.\n",
    "'''\n",
    "\n",
    "print(simplify_openai(input))"
   ]
  },
  {
   "cell_type": "markdown",
   "metadata": {
    "id": "ASUyxxivy00g"
   },
   "source": [
    "## Expected pricing"
   ]
  },
  {
   "cell_type": "code",
   "execution_count": null,
   "metadata": {
    "colab": {
     "base_uri": "https://localhost:8080/"
    },
    "executionInfo": {
     "elapsed": 3,
     "status": "ok",
     "timestamp": 1703976192490,
     "user": {
      "displayName": "Marco Russodivito",
      "userId": "05013084347772678948"
     },
     "user_tz": -60
    },
    "id": "YkJbtdjMHOjZ",
    "outputId": "389f9c6d-37f0-4b7d-ba66-f1731775a2f4"
   },
   "outputs": [
    {
     "name": "stdout",
     "output_type": "stream",
     "text": [
      "Potential cost:  2.03763\n",
      "Potential cost with tax:  2.4859086\n"
     ]
    }
   ],
   "source": [
    "# gpt-3.5-turbo\n",
    "# input cost: $0.0010 / 1K tokens\n",
    "# output cost: $0.0015 / 1K tokens\n",
    "\n",
    "tokens = 0\n",
    "for sample in dataset:\n",
    "  tokens += len(sample['original_text'].split(' '))\n",
    "\n",
    "input_cost = tokens / 1000 * 0.0010\n",
    "output_cost = tokens / 1000 * 0.0015\n",
    "\n",
    "print('Potential cost: ', input_cost + output_cost)\n",
    "print('Potential cost with tax: ', (input_cost + output_cost) * 1.22)"
   ]
  },
  {
   "cell_type": "markdown",
   "metadata": {
    "id": "3Vi-_8IfzO24"
   },
   "source": [
    "## Do simplification"
   ]
  },
  {
   "cell_type": "code",
   "execution_count": null,
   "metadata": {
    "colab": {
     "base_uri": "https://localhost:8080/"
    },
    "executionInfo": {
     "elapsed": 387209,
     "status": "ok",
     "timestamp": 1703976579697,
     "user": {
      "displayName": "Marco Russodivito",
      "userId": "05013084347772678948"
     },
     "user_tz": -60
    },
    "id": "sD6PSXTICOnx",
    "outputId": "d468edc8-57b7-4a9a-9680-198b82c59313"
   },
   "outputs": [
    {
     "name": "stderr",
     "output_type": "stream",
     "text": [
      "100%|██████████| 18349/18349 [06:27<00:00, 47.31it/s]\n"
     ]
    }
   ],
   "source": [
    "for sample in tqdm(dataset):\n",
    "  if 'oracle_text' not in sample or sample['oracle_text'] == '':\n",
    "    oracle_text = simplify_openai(sample['original_text'])\n",
    "    sample['oracle_text'] = oracle_text"
   ]
  },
  {
   "cell_type": "code",
   "execution_count": null,
   "metadata": {
    "id": "4AyFMnYOMD7q"
   },
   "outputs": [],
   "source": [
    "dataset_file = open(f'./dataset/dataset.json', 'w')\n",
    "json.dump(dataset, dataset_file, indent=2)\n",
    "dataset_file.close()"
   ]
  },
  {
   "cell_type": "markdown",
   "metadata": {
    "id": "hNPlfOvWI-NW"
   },
   "source": [
    "## Saving full dataset"
   ]
  },
  {
   "cell_type": "code",
   "execution_count": null,
   "metadata": {
    "colab": {
     "base_uri": "https://localhost:8080/",
     "height": 676
    },
    "executionInfo": {
     "elapsed": 4,
     "status": "ok",
     "timestamp": 1703976580194,
     "user": {
      "displayName": "Marco Russodivito",
      "userId": "05013084347772678948"
     },
     "user_tz": -60
    },
    "id": "Kxv_DvDR6ZU9",
    "outputId": "70a5fc42-f4e8-434d-9aa8-4a2705c04b33"
   },
   "outputs": [
    {
     "data": {
      "text/html": [
       "\n",
       "  <div id=\"df-b9f5954d-af1f-4ef7-a135-682a5c1218fa\" class=\"colab-df-container\">\n",
       "    <div>\n",
       "<style scoped>\n",
       "    .dataframe tbody tr th:only-of-type {\n",
       "        vertical-align: middle;\n",
       "    }\n",
       "\n",
       "    .dataframe tbody tr th {\n",
       "        vertical-align: top;\n",
       "    }\n",
       "\n",
       "    .dataframe thead th {\n",
       "        text-align: right;\n",
       "    }\n",
       "</style>\n",
       "<table border=\"1\" class=\"dataframe\">\n",
       "  <thead>\n",
       "    <tr style=\"text-align: right;\">\n",
       "      <th></th>\n",
       "      <th>topic</th>\n",
       "      <th>region</th>\n",
       "      <th>document_type</th>\n",
       "      <th>document_ref</th>\n",
       "      <th>original_text</th>\n",
       "      <th>oracle_text</th>\n",
       "    </tr>\n",
       "  </thead>\n",
       "  <tbody>\n",
       "    <tr>\n",
       "      <th>2535</th>\n",
       "      <td>public_services</td>\n",
       "      <td>calabria</td>\n",
       "      <td>public_holdings_rationalization</td>\n",
       "      <td>92f810e5aab710916f6d1bbfb6b7513c</td>\n",
       "      <td>In riferimento al mantenimento delle partecipa...</td>\n",
       "      <td>La Regione ha l'obbligo di spiegare perché tie...</td>\n",
       "    </tr>\n",
       "    <tr>\n",
       "      <th>16080</th>\n",
       "      <td>garbage</td>\n",
       "      <td>veneto</td>\n",
       "      <td>tender</td>\n",
       "      <td>067d8e49edfee9eecae02a85365bf1f3</td>\n",
       "      <td>L'appalto ha ad oggetto l'affidamento del serv...</td>\n",
       "      <td>L'appalto riguarda un servizio di raccolta, tr...</td>\n",
       "    </tr>\n",
       "    <tr>\n",
       "      <th>6769</th>\n",
       "      <td>healthcare</td>\n",
       "      <td>lombardia</td>\n",
       "      <td>accreditation</td>\n",
       "      <td>df9cf30ce0fbfabd587d31e67674bc6d</td>\n",
       "      <td>Il diario riporta le motivazioni a supporto di...</td>\n",
       "      <td>Il diario spiega perché certe prestazioni non ...</td>\n",
       "    </tr>\n",
       "    <tr>\n",
       "      <th>483</th>\n",
       "      <td>healthcare</td>\n",
       "      <td>basilicata</td>\n",
       "      <td>planning_acts</td>\n",
       "      <td>99bdc9fdd8097f067f77cb220074b1b5</td>\n",
       "      <td>Il telecontrollo si affianca idealmente al tel...</td>\n",
       "      <td>Il telecontrollo e il telemonitoraggio dovrebb...</td>\n",
       "    </tr>\n",
       "    <tr>\n",
       "      <th>17222</th>\n",
       "      <td>healthcare</td>\n",
       "      <td>veneto</td>\n",
       "      <td>planning_acts</td>\n",
       "      <td>cca682c8e597276a9313e6eff21fe065</td>\n",
       "      <td>garantire il prioritario intervento sull'età g...</td>\n",
       "      <td>Assicurare che si dia priorità all'aiuto ai gi...</td>\n",
       "    </tr>\n",
       "    <tr>\n",
       "      <th>10519</th>\n",
       "      <td>healthcare</td>\n",
       "      <td>molise</td>\n",
       "      <td>accreditation</td>\n",
       "      <td>69d186bf1e2e397e771552a96c49d10b</td>\n",
       "      <td>Il gruppo di esperti individuato per la proced...</td>\n",
       "      <td>Il gruppo di esperti scelto per fare un'ispezi...</td>\n",
       "    </tr>\n",
       "    <tr>\n",
       "      <th>7314</th>\n",
       "      <td>public_services</td>\n",
       "      <td>lombardia</td>\n",
       "      <td>service_charter</td>\n",
       "      <td>7b74941fd51f8395790873b01e75881e</td>\n",
       "      <td>Il Centro Socio Educativo (C.S.E.) è un'Unità ...</td>\n",
       "      <td>Il Centro Socio Educativo (C.S.E.) è un serviz...</td>\n",
       "    </tr>\n",
       "    <tr>\n",
       "      <th>6153</th>\n",
       "      <td>healthcare</td>\n",
       "      <td>lazio</td>\n",
       "      <td>accreditation</td>\n",
       "      <td>d4b9addca250f5eac44d42a131c67f29</td>\n",
       "      <td>vi è evidenza della rivalutazione e della revi...</td>\n",
       "      <td>Quando le condizioni di salute di un paziente ...</td>\n",
       "    </tr>\n",
       "    <tr>\n",
       "      <th>15350</th>\n",
       "      <td>public_services</td>\n",
       "      <td>toscana</td>\n",
       "      <td>public_holdings_rationalization</td>\n",
       "      <td>1be983abb88fd603ee16576df2caa899</td>\n",
       "      <td>La società, come si rileva dall'art.4 dello st...</td>\n",
       "      <td>La società, come si legge nell'articolo 4 dell...</td>\n",
       "    </tr>\n",
       "    <tr>\n",
       "      <th>762</th>\n",
       "      <td>public_services</td>\n",
       "      <td>basilicata</td>\n",
       "      <td>public_holdings_rationalization</td>\n",
       "      <td>f367e0027ea593308875913e1e8547c1</td>\n",
       "      <td>L'esito della ricognizione, anche in caso nega...</td>\n",
       "      <td>I risultati della verifica, anche se non trovi...</td>\n",
       "    </tr>\n",
       "    <tr>\n",
       "      <th>13239</th>\n",
       "      <td>public_services</td>\n",
       "      <td>molise</td>\n",
       "      <td>service_charter</td>\n",
       "      <td>93860010e913bb4416120f846e4bf50f</td>\n",
       "      <td>La modulistica da compilare è disponibile pres...</td>\n",
       "      <td>Puoi trovare i documenti da compilare presso l...</td>\n",
       "    </tr>\n",
       "    <tr>\n",
       "      <th>10060</th>\n",
       "      <td>healthcare</td>\n",
       "      <td>molise</td>\n",
       "      <td>planning_acts</td>\n",
       "      <td>fbeb264c2b6ab70678f08e1ce8d07df3</td>\n",
       "      <td>Tali carenze possono essere soddisfatte unicam...</td>\n",
       "      <td>Queste mancanze possono essere risolte solo co...</td>\n",
       "    </tr>\n",
       "    <tr>\n",
       "      <th>10524</th>\n",
       "      <td>healthcare</td>\n",
       "      <td>molise</td>\n",
       "      <td>accreditation</td>\n",
       "      <td>69d186bf1e2e397e771552a96c49d10b</td>\n",
       "      <td>Incontra il rappresentante legale della strutt...</td>\n",
       "      <td>Incontra il responsabile della struttura e il ...</td>\n",
       "    </tr>\n",
       "    <tr>\n",
       "      <th>10483</th>\n",
       "      <td>healthcare</td>\n",
       "      <td>molise</td>\n",
       "      <td>planning_acts</td>\n",
       "      <td>fbeb264c2b6ab70678f08e1ce8d07df3</td>\n",
       "      <td>Nei tendenziali 2022-2024 le poste relative ag...</td>\n",
       "      <td>Nei prossimi tre anni, le tasse saranno calcol...</td>\n",
       "    </tr>\n",
       "    <tr>\n",
       "      <th>2493</th>\n",
       "      <td>public_services</td>\n",
       "      <td>calabria</td>\n",
       "      <td>public_holdings_rationalization</td>\n",
       "      <td>07108e7d68b7e897ed6a800be9802105</td>\n",
       "      <td>\"Lameziaeuropa S.p.A.\", società partecipata da...</td>\n",
       "      <td>\"Lameziaeuropa S.p.A.\" è una società di cui la...</td>\n",
       "    </tr>\n",
       "    <tr>\n",
       "      <th>2586</th>\n",
       "      <td>public_services</td>\n",
       "      <td>calabria</td>\n",
       "      <td>public_holdings_rationalization</td>\n",
       "      <td>92f810e5aab710916f6d1bbfb6b7513c</td>\n",
       "      <td>Con D.D.G. n.552 del 03.02.2016, assunto il 30...</td>\n",
       "      <td>Con la delibera D.D.G. n.552 del 03.02.2016, p...</td>\n",
       "    </tr>\n",
       "    <tr>\n",
       "      <th>3580</th>\n",
       "      <td>healthcare</td>\n",
       "      <td>campania</td>\n",
       "      <td>planning_acts</td>\n",
       "      <td>9d5302d8ba446dae30c5130cc23b6d6a</td>\n",
       "      <td>La Regione Campania ha provveduto già a costit...</td>\n",
       "      <td>La Regione Campania ha creato un gruppo di lav...</td>\n",
       "    </tr>\n",
       "    <tr>\n",
       "      <th>6884</th>\n",
       "      <td>healthcare</td>\n",
       "      <td>lombardia</td>\n",
       "      <td>accreditation</td>\n",
       "      <td>df9cf30ce0fbfabd587d31e67674bc6d</td>\n",
       "      <td>Lo standard gestionale, quantitativo e qualita...</td>\n",
       "      <td>Secondo le regole della regione, ogni settiman...</td>\n",
       "    </tr>\n",
       "    <tr>\n",
       "      <th>2176</th>\n",
       "      <td>garbage</td>\n",
       "      <td>calabria</td>\n",
       "      <td>service_charter</td>\n",
       "      <td>ec2b624e99c5355de90427191da8c94a</td>\n",
       "      <td>La società si è adeguata ed ottempera con rego...</td>\n",
       "      <td>L'azienda rispetta regolarmente le leggi sulla...</td>\n",
       "    </tr>\n",
       "    <tr>\n",
       "      <th>4103</th>\n",
       "      <td>healthcare</td>\n",
       "      <td>campania</td>\n",
       "      <td>planning_acts</td>\n",
       "      <td>9d5302d8ba446dae30c5130cc23b6d6a</td>\n",
       "      <td>Analisi e progettazione funzionale delle soluz...</td>\n",
       "      <td>Studio e progettazione di nuove soluzioni prat...</td>\n",
       "    </tr>\n",
       "  </tbody>\n",
       "</table>\n",
       "</div>\n",
       "    <div class=\"colab-df-buttons\">\n",
       "\n",
       "  <div class=\"colab-df-container\">\n",
       "    <button class=\"colab-df-convert\" onclick=\"convertToInteractive('df-b9f5954d-af1f-4ef7-a135-682a5c1218fa')\"\n",
       "            title=\"Convert this dataframe to an interactive table.\"\n",
       "            style=\"display:none;\">\n",
       "\n",
       "  <svg xmlns=\"http://www.w3.org/2000/svg\" height=\"24px\" viewBox=\"0 -960 960 960\">\n",
       "    <path d=\"M120-120v-720h720v720H120Zm60-500h600v-160H180v160Zm220 220h160v-160H400v160Zm0 220h160v-160H400v160ZM180-400h160v-160H180v160Zm440 0h160v-160H620v160ZM180-180h160v-160H180v160Zm440 0h160v-160H620v160Z\"/>\n",
       "  </svg>\n",
       "    </button>\n",
       "\n",
       "  <style>\n",
       "    .colab-df-container {\n",
       "      display:flex;\n",
       "      gap: 12px;\n",
       "    }\n",
       "\n",
       "    .colab-df-convert {\n",
       "      background-color: #E8F0FE;\n",
       "      border: none;\n",
       "      border-radius: 50%;\n",
       "      cursor: pointer;\n",
       "      display: none;\n",
       "      fill: #1967D2;\n",
       "      height: 32px;\n",
       "      padding: 0 0 0 0;\n",
       "      width: 32px;\n",
       "    }\n",
       "\n",
       "    .colab-df-convert:hover {\n",
       "      background-color: #E2EBFA;\n",
       "      box-shadow: 0px 1px 2px rgba(60, 64, 67, 0.3), 0px 1px 3px 1px rgba(60, 64, 67, 0.15);\n",
       "      fill: #174EA6;\n",
       "    }\n",
       "\n",
       "    .colab-df-buttons div {\n",
       "      margin-bottom: 4px;\n",
       "    }\n",
       "\n",
       "    [theme=dark] .colab-df-convert {\n",
       "      background-color: #3B4455;\n",
       "      fill: #D2E3FC;\n",
       "    }\n",
       "\n",
       "    [theme=dark] .colab-df-convert:hover {\n",
       "      background-color: #434B5C;\n",
       "      box-shadow: 0px 1px 3px 1px rgba(0, 0, 0, 0.15);\n",
       "      filter: drop-shadow(0px 1px 2px rgba(0, 0, 0, 0.3));\n",
       "      fill: #FFFFFF;\n",
       "    }\n",
       "  </style>\n",
       "\n",
       "    <script>\n",
       "      const buttonEl =\n",
       "        document.querySelector('#df-b9f5954d-af1f-4ef7-a135-682a5c1218fa button.colab-df-convert');\n",
       "      buttonEl.style.display =\n",
       "        google.colab.kernel.accessAllowed ? 'block' : 'none';\n",
       "\n",
       "      async function convertToInteractive(key) {\n",
       "        const element = document.querySelector('#df-b9f5954d-af1f-4ef7-a135-682a5c1218fa');\n",
       "        const dataTable =\n",
       "          await google.colab.kernel.invokeFunction('convertToInteractive',\n",
       "                                                    [key], {});\n",
       "        if (!dataTable) return;\n",
       "\n",
       "        const docLinkHtml = 'Like what you see? Visit the ' +\n",
       "          '<a target=\"_blank\" href=https://colab.research.google.com/notebooks/data_table.ipynb>data table notebook</a>'\n",
       "          + ' to learn more about interactive tables.';\n",
       "        element.innerHTML = '';\n",
       "        dataTable['output_type'] = 'display_data';\n",
       "        await google.colab.output.renderOutput(dataTable, element);\n",
       "        const docLink = document.createElement('div');\n",
       "        docLink.innerHTML = docLinkHtml;\n",
       "        element.appendChild(docLink);\n",
       "      }\n",
       "    </script>\n",
       "  </div>\n",
       "\n",
       "\n",
       "<div id=\"df-c5d607af-d3e4-4ca7-baca-0f9f195c9c51\">\n",
       "  <button class=\"colab-df-quickchart\" onclick=\"quickchart('df-c5d607af-d3e4-4ca7-baca-0f9f195c9c51')\"\n",
       "            title=\"Suggest charts\"\n",
       "            style=\"display:none;\">\n",
       "\n",
       "<svg xmlns=\"http://www.w3.org/2000/svg\" height=\"24px\"viewBox=\"0 0 24 24\"\n",
       "     width=\"24px\">\n",
       "    <g>\n",
       "        <path d=\"M19 3H5c-1.1 0-2 .9-2 2v14c0 1.1.9 2 2 2h14c1.1 0 2-.9 2-2V5c0-1.1-.9-2-2-2zM9 17H7v-7h2v7zm4 0h-2V7h2v10zm4 0h-2v-4h2v4z\"/>\n",
       "    </g>\n",
       "</svg>\n",
       "  </button>\n",
       "\n",
       "<style>\n",
       "  .colab-df-quickchart {\n",
       "      --bg-color: #E8F0FE;\n",
       "      --fill-color: #1967D2;\n",
       "      --hover-bg-color: #E2EBFA;\n",
       "      --hover-fill-color: #174EA6;\n",
       "      --disabled-fill-color: #AAA;\n",
       "      --disabled-bg-color: #DDD;\n",
       "  }\n",
       "\n",
       "  [theme=dark] .colab-df-quickchart {\n",
       "      --bg-color: #3B4455;\n",
       "      --fill-color: #D2E3FC;\n",
       "      --hover-bg-color: #434B5C;\n",
       "      --hover-fill-color: #FFFFFF;\n",
       "      --disabled-bg-color: #3B4455;\n",
       "      --disabled-fill-color: #666;\n",
       "  }\n",
       "\n",
       "  .colab-df-quickchart {\n",
       "    background-color: var(--bg-color);\n",
       "    border: none;\n",
       "    border-radius: 50%;\n",
       "    cursor: pointer;\n",
       "    display: none;\n",
       "    fill: var(--fill-color);\n",
       "    height: 32px;\n",
       "    padding: 0;\n",
       "    width: 32px;\n",
       "  }\n",
       "\n",
       "  .colab-df-quickchart:hover {\n",
       "    background-color: var(--hover-bg-color);\n",
       "    box-shadow: 0 1px 2px rgba(60, 64, 67, 0.3), 0 1px 3px 1px rgba(60, 64, 67, 0.15);\n",
       "    fill: var(--button-hover-fill-color);\n",
       "  }\n",
       "\n",
       "  .colab-df-quickchart-complete:disabled,\n",
       "  .colab-df-quickchart-complete:disabled:hover {\n",
       "    background-color: var(--disabled-bg-color);\n",
       "    fill: var(--disabled-fill-color);\n",
       "    box-shadow: none;\n",
       "  }\n",
       "\n",
       "  .colab-df-spinner {\n",
       "    border: 2px solid var(--fill-color);\n",
       "    border-color: transparent;\n",
       "    border-bottom-color: var(--fill-color);\n",
       "    animation:\n",
       "      spin 1s steps(1) infinite;\n",
       "  }\n",
       "\n",
       "  @keyframes spin {\n",
       "    0% {\n",
       "      border-color: transparent;\n",
       "      border-bottom-color: var(--fill-color);\n",
       "      border-left-color: var(--fill-color);\n",
       "    }\n",
       "    20% {\n",
       "      border-color: transparent;\n",
       "      border-left-color: var(--fill-color);\n",
       "      border-top-color: var(--fill-color);\n",
       "    }\n",
       "    30% {\n",
       "      border-color: transparent;\n",
       "      border-left-color: var(--fill-color);\n",
       "      border-top-color: var(--fill-color);\n",
       "      border-right-color: var(--fill-color);\n",
       "    }\n",
       "    40% {\n",
       "      border-color: transparent;\n",
       "      border-right-color: var(--fill-color);\n",
       "      border-top-color: var(--fill-color);\n",
       "    }\n",
       "    60% {\n",
       "      border-color: transparent;\n",
       "      border-right-color: var(--fill-color);\n",
       "    }\n",
       "    80% {\n",
       "      border-color: transparent;\n",
       "      border-right-color: var(--fill-color);\n",
       "      border-bottom-color: var(--fill-color);\n",
       "    }\n",
       "    90% {\n",
       "      border-color: transparent;\n",
       "      border-bottom-color: var(--fill-color);\n",
       "    }\n",
       "  }\n",
       "</style>\n",
       "\n",
       "  <script>\n",
       "    async function quickchart(key) {\n",
       "      const quickchartButtonEl =\n",
       "        document.querySelector('#' + key + ' button');\n",
       "      quickchartButtonEl.disabled = true;  // To prevent multiple clicks.\n",
       "      quickchartButtonEl.classList.add('colab-df-spinner');\n",
       "      try {\n",
       "        const charts = await google.colab.kernel.invokeFunction(\n",
       "            'suggestCharts', [key], {});\n",
       "      } catch (error) {\n",
       "        console.error('Error during call to suggestCharts:', error);\n",
       "      }\n",
       "      quickchartButtonEl.classList.remove('colab-df-spinner');\n",
       "      quickchartButtonEl.classList.add('colab-df-quickchart-complete');\n",
       "    }\n",
       "    (() => {\n",
       "      let quickchartButtonEl =\n",
       "        document.querySelector('#df-c5d607af-d3e4-4ca7-baca-0f9f195c9c51 button');\n",
       "      quickchartButtonEl.style.display =\n",
       "        google.colab.kernel.accessAllowed ? 'block' : 'none';\n",
       "    })();\n",
       "  </script>\n",
       "</div>\n",
       "    </div>\n",
       "  </div>\n"
      ],
      "text/plain": [
       "                 topic      region                    document_type  \\\n",
       "2535   public_services    calabria  public_holdings_rationalization   \n",
       "16080          garbage      veneto                           tender   \n",
       "6769        healthcare   lombardia                    accreditation   \n",
       "483         healthcare  basilicata                    planning_acts   \n",
       "17222       healthcare      veneto                    planning_acts   \n",
       "10519       healthcare      molise                    accreditation   \n",
       "7314   public_services   lombardia                  service_charter   \n",
       "6153        healthcare       lazio                    accreditation   \n",
       "15350  public_services     toscana  public_holdings_rationalization   \n",
       "762    public_services  basilicata  public_holdings_rationalization   \n",
       "13239  public_services      molise                  service_charter   \n",
       "10060       healthcare      molise                    planning_acts   \n",
       "10524       healthcare      molise                    accreditation   \n",
       "10483       healthcare      molise                    planning_acts   \n",
       "2493   public_services    calabria  public_holdings_rationalization   \n",
       "2586   public_services    calabria  public_holdings_rationalization   \n",
       "3580        healthcare    campania                    planning_acts   \n",
       "6884        healthcare   lombardia                    accreditation   \n",
       "2176           garbage    calabria                  service_charter   \n",
       "4103        healthcare    campania                    planning_acts   \n",
       "\n",
       "                           document_ref  \\\n",
       "2535   92f810e5aab710916f6d1bbfb6b7513c   \n",
       "16080  067d8e49edfee9eecae02a85365bf1f3   \n",
       "6769   df9cf30ce0fbfabd587d31e67674bc6d   \n",
       "483    99bdc9fdd8097f067f77cb220074b1b5   \n",
       "17222  cca682c8e597276a9313e6eff21fe065   \n",
       "10519  69d186bf1e2e397e771552a96c49d10b   \n",
       "7314   7b74941fd51f8395790873b01e75881e   \n",
       "6153   d4b9addca250f5eac44d42a131c67f29   \n",
       "15350  1be983abb88fd603ee16576df2caa899   \n",
       "762    f367e0027ea593308875913e1e8547c1   \n",
       "13239  93860010e913bb4416120f846e4bf50f   \n",
       "10060  fbeb264c2b6ab70678f08e1ce8d07df3   \n",
       "10524  69d186bf1e2e397e771552a96c49d10b   \n",
       "10483  fbeb264c2b6ab70678f08e1ce8d07df3   \n",
       "2493   07108e7d68b7e897ed6a800be9802105   \n",
       "2586   92f810e5aab710916f6d1bbfb6b7513c   \n",
       "3580   9d5302d8ba446dae30c5130cc23b6d6a   \n",
       "6884   df9cf30ce0fbfabd587d31e67674bc6d   \n",
       "2176   ec2b624e99c5355de90427191da8c94a   \n",
       "4103   9d5302d8ba446dae30c5130cc23b6d6a   \n",
       "\n",
       "                                           original_text  \\\n",
       "2535   In riferimento al mantenimento delle partecipa...   \n",
       "16080  L'appalto ha ad oggetto l'affidamento del serv...   \n",
       "6769   Il diario riporta le motivazioni a supporto di...   \n",
       "483    Il telecontrollo si affianca idealmente al tel...   \n",
       "17222  garantire il prioritario intervento sull'età g...   \n",
       "10519  Il gruppo di esperti individuato per la proced...   \n",
       "7314   Il Centro Socio Educativo (C.S.E.) è un'Unità ...   \n",
       "6153   vi è evidenza della rivalutazione e della revi...   \n",
       "15350  La società, come si rileva dall'art.4 dello st...   \n",
       "762    L'esito della ricognizione, anche in caso nega...   \n",
       "13239  La modulistica da compilare è disponibile pres...   \n",
       "10060  Tali carenze possono essere soddisfatte unicam...   \n",
       "10524  Incontra il rappresentante legale della strutt...   \n",
       "10483  Nei tendenziali 2022-2024 le poste relative ag...   \n",
       "2493   \"Lameziaeuropa S.p.A.\", società partecipata da...   \n",
       "2586   Con D.D.G. n.552 del 03.02.2016, assunto il 30...   \n",
       "3580   La Regione Campania ha provveduto già a costit...   \n",
       "6884   Lo standard gestionale, quantitativo e qualita...   \n",
       "2176   La società si è adeguata ed ottempera con rego...   \n",
       "4103   Analisi e progettazione funzionale delle soluz...   \n",
       "\n",
       "                                     oracle_text  \n",
       "2535   La Regione ha l'obbligo di spiegare perché tie...  \n",
       "16080  L'appalto riguarda un servizio di raccolta, tr...  \n",
       "6769   Il diario spiega perché certe prestazioni non ...  \n",
       "483    Il telecontrollo e il telemonitoraggio dovrebb...  \n",
       "17222  Assicurare che si dia priorità all'aiuto ai gi...  \n",
       "10519  Il gruppo di esperti scelto per fare un'ispezi...  \n",
       "7314   Il Centro Socio Educativo (C.S.E.) è un serviz...  \n",
       "6153   Quando le condizioni di salute di un paziente ...  \n",
       "15350  La società, come si legge nell'articolo 4 dell...  \n",
       "762    I risultati della verifica, anche se non trovi...  \n",
       "13239  Puoi trovare i documenti da compilare presso l...  \n",
       "10060  Queste mancanze possono essere risolte solo co...  \n",
       "10524  Incontra il responsabile della struttura e il ...  \n",
       "10483  Nei prossimi tre anni, le tasse saranno calcol...  \n",
       "2493   \"Lameziaeuropa S.p.A.\" è una società di cui la...  \n",
       "2586   Con la delibera D.D.G. n.552 del 03.02.2016, p...  \n",
       "3580   La Regione Campania ha creato un gruppo di lav...  \n",
       "6884   Secondo le regole della regione, ogni settiman...  \n",
       "2176   L'azienda rispetta regolarmente le leggi sulla...  \n",
       "4103   Studio e progettazione di nuove soluzioni prat...  "
      ]
     },
     "execution_count": 30,
     "metadata": {},
     "output_type": "execute_result"
    }
   ],
   "source": [
    "dataset_df = pd.DataFrame(dataset)\n",
    "dataset_df.sample(20)"
   ]
  },
  {
   "cell_type": "code",
   "execution_count": null,
   "metadata": {
    "colab": {
     "base_uri": "https://localhost:8080/"
    },
    "executionInfo": {
     "elapsed": 3,
     "status": "ok",
     "timestamp": 1703976580194,
     "user": {
      "displayName": "Marco Russodivito",
      "userId": "05013084347772678948"
     },
     "user_tz": -60
    },
    "id": "XHjz-MuEJNcI",
    "outputId": "f990f001-623f-4743-b37c-6e1a45af4374"
   },
   "outputs": [
    {
     "data": {
      "text/plain": [
       "(18349, 6)"
      ]
     },
     "execution_count": 31,
     "metadata": {},
     "output_type": "execute_result"
    }
   ],
   "source": [
    "dataset_df.shape"
   ]
  },
  {
   "cell_type": "code",
   "execution_count": null,
   "metadata": {
    "id": "1Ulds1AiJPmm"
   },
   "outputs": [],
   "source": [
    "dataset_df.to_csv(f'./dataset/dataset.tsv', index=False, sep='\\t')\n",
    "dataset_df.to_excel(f'./dataset/dataset.xlsx', index=False)"
   ]
  },
  {
   "cell_type": "markdown",
   "metadata": {
    "id": "YbKEf6sXJa5W"
   },
   "source": [
    "## Train, test and val splitting"
   ]
  },
  {
   "cell_type": "markdown",
   "metadata": {
    "id": "m6GiKJhDJfEO"
   },
   "source": [
    "![train-test-val.jpg](https://miro.medium.com/v2/resize:fit:1400/1*f2KznlrIdj1MeobprVGBtg.png)"
   ]
  },
  {
   "cell_type": "code",
   "execution_count": null,
   "metadata": {
    "id": "ORO6QpjUJTJG"
   },
   "outputs": [],
   "source": [
    "train_df, rem_df = train_test_split(dataset_df, train_size=0.8)\n",
    "test_df, val_df = train_test_split(rem_df, train_size=0.5)"
   ]
  },
  {
   "cell_type": "code",
   "execution_count": null,
   "metadata": {
    "id": "JTLQUYDPJhCF"
   },
   "outputs": [],
   "source": [
    "train_df.to_csv(f'./dataset/train.tsv', index=False, sep='\\t')\n",
    "test_df.to_csv(f'./dataset/test.tsv', index=False, sep='\\t')\n",
    "val_df.to_csv(f'./dataset/val.tsv', index=False, sep='\\t')"
   ]
  }
 ],
 "metadata": {
  "colab": {
   "provenance": []
  },
  "kernelspec": {
   "display_name": "Python 3",
   "name": "python3"
  },
  "language_info": {
   "name": "python"
  }
 },
 "nbformat": 4,
 "nbformat_minor": 0
}
