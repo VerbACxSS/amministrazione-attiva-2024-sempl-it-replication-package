{
 "cells": [
  {
   "cell_type": "markdown",
   "metadata": {
    "id": "X6Cz36RKs9W9"
   },
   "source": [
    "# Inference"
   ]
  },
  {
   "cell_type": "markdown",
   "metadata": {
    "id": "U1yzKv4WBWDn"
   },
   "source": [
    "## Dependencies and imports"
   ]
  },
  {
   "cell_type": "code",
   "execution_count": 2,
   "metadata": {
    "ExecuteTime": {
     "end_time": "2024-01-11T09:06:55.188226Z",
     "start_time": "2024-01-11T09:06:53.017926100Z"
    },
    "executionInfo": {
     "elapsed": 7880,
     "status": "ok",
     "timestamp": 1704975492900,
     "user": {
      "displayName": "Marco Russodivito",
      "userId": "05013084347772678948"
     },
     "user_tz": -60
    },
    "id": "tSDf1n7iIJo_"
   },
   "outputs": [],
   "source": [
    "import numpy as np\n",
    "import pandas as pd\n",
    "from tqdm import tqdm\n",
    "\n",
    "from transformers import AutoTokenizer, AutoModelForCausalLM"
   ]
  },
  {
   "cell_type": "markdown",
   "metadata": {
    "id": "ngy2NOGJtHDP"
   },
   "source": [
    "## Load fintuned model"
   ]
  },
  {
   "cell_type": "code",
   "execution_count": 4,
   "metadata": {
    "ExecuteTime": {
     "end_time": "2024-01-11T09:06:56.970448400Z",
     "start_time": "2024-01-11T09:06:56.367361400Z"
    },
    "colab": {
     "base_uri": "https://localhost:8080/"
    },
    "executionInfo": {
     "elapsed": 13646,
     "status": "ok",
     "timestamp": 1704975521776,
     "user": {
      "displayName": "Marco Russodivito",
      "userId": "05013084347772678948"
     },
     "user_tz": -60
    },
    "id": "u_zs8EqAIjsY",
    "outputId": "3b45ca3a-5b4a-4b6d-ada4-dce751f0e7bd"
   },
   "outputs": [
    {
     "data": {
      "text/plain": [
       "GPT2LMHeadModel(\n",
       "  (transformer): GPT2Model(\n",
       "    (wte): Embedding(30001, 768)\n",
       "    (wpe): Embedding(1024, 768)\n",
       "    (drop): Dropout(p=0.1, inplace=False)\n",
       "    (h): ModuleList(\n",
       "      (0-11): 12 x GPT2Block(\n",
       "        (ln_1): LayerNorm((768,), eps=1e-05, elementwise_affine=True)\n",
       "        (attn): GPT2Attention(\n",
       "          (c_attn): Conv1D()\n",
       "          (c_proj): Conv1D()\n",
       "          (attn_dropout): Dropout(p=0.1, inplace=False)\n",
       "          (resid_dropout): Dropout(p=0.1, inplace=False)\n",
       "        )\n",
       "        (ln_2): LayerNorm((768,), eps=1e-05, elementwise_affine=True)\n",
       "        (mlp): GPT2MLP(\n",
       "          (c_fc): Conv1D()\n",
       "          (c_proj): Conv1D()\n",
       "          (act): NewGELUActivation()\n",
       "          (dropout): Dropout(p=0.1, inplace=False)\n",
       "        )\n",
       "      )\n",
       "    )\n",
       "    (ln_f): LayerNorm((768,), eps=1e-05, elementwise_affine=True)\n",
       "  )\n",
       "  (lm_head): Linear(in_features=768, out_features=30001, bias=False)\n",
       ")"
      ]
     },
     "execution_count": 4,
     "metadata": {},
     "output_type": "execute_result"
    }
   ],
   "source": [
    "tokenizer = AutoTokenizer.from_pretrained(\"VerbACxSS/sempl-it-gpt2-small-italian\", model_max_length=1024)\n",
    "model = AutoModelForCausalLM.from_pretrained(\"VerbACxSS/sempl-it-gpt2-small-italian\")\n",
    "\n",
    "tokenizer.add_special_tokens({'pad_token': '[PAD]'})\n",
    "model.resize_token_embeddings(len(tokenizer))\n",
    "\n",
    "model.eval().to('cuda')"
   ]
  },
  {
   "cell_type": "markdown",
   "metadata": {
    "id": "jvcgTTzMtJre"
   },
   "source": [
    "## Load datasets"
   ]
  },
  {
   "cell_type": "code",
   "execution_count": 5,
   "metadata": {
    "ExecuteTime": {
     "end_time": "2024-01-11T09:06:59.855289300Z",
     "start_time": "2024-01-11T09:06:59.749778100Z"
    },
    "executionInfo": {
     "elapsed": 1187,
     "status": "ok",
     "timestamp": 1704975522961,
     "user": {
      "displayName": "Marco Russodivito",
      "userId": "05013084347772678948"
     },
     "user_tz": -60
    },
    "id": "X6KiE9ouIY5A"
   },
   "outputs": [],
   "source": [
    "train_df = pd.read_csv('../dataset/train.tsv', sep='\\t', encoding='utf-8')\n",
    "test_df = pd.read_csv('../dataset/test.tsv', sep='\\t', encoding='utf-8')\n",
    "val_df = pd.read_csv('../dataset/val.tsv', sep='\\t', encoding='utf-8')"
   ]
  },
  {
   "cell_type": "markdown",
   "metadata": {
    "id": "I0B2MMq3tLn1"
   },
   "source": [
    "## Utilities"
   ]
  },
  {
   "cell_type": "code",
   "execution_count": 6,
   "metadata": {
    "ExecuteTime": {
     "end_time": "2024-01-11T09:07:01.019945400Z",
     "start_time": "2024-01-11T09:07:01.015943600Z"
    },
    "executionInfo": {
     "elapsed": 2,
     "status": "ok",
     "timestamp": 1704975523531,
     "user": {
      "displayName": "Marco Russodivito",
      "userId": "05013084347772678948"
     },
     "user_tz": -60
    },
    "id": "0gK3m8G4JG3S"
   },
   "outputs": [],
   "source": [
    "TOKENIZER_MAX_LENGTH = 1024\n",
    "\n",
    "def predict(samples_array, batch_size=16):\n",
    "  prompts = [f'### [Input]:\\n{s}\\n\\n###[Output]:\\n' for s in samples_array]\n",
    "  batched_prompt = [prompts[i:i+batch_size] for i in range(0, len(prompts), batch_size)]\n",
    "\n",
    "  outputs = []\n",
    "  for batch in tqdm(batched_prompt):\n",
    "    x = tokenizer(batch, max_length=TOKENIZER_MAX_LENGTH, truncation=True, padding=True, return_tensors='pt').input_ids.to('cuda')\n",
    "    y = model.generate(x, max_length=TOKENIZER_MAX_LENGTH)\n",
    "    y_decs = tokenizer.batch_decode(y, max_length=TOKENIZER_MAX_LENGTH, truncation=True)\n",
    "    y_decs = [y_dec.split(\"###[Output]:\\n\")[1].split('<|endoftext|>')[0].strip() for y_dec in y_decs]\n",
    "    outputs.extend(y_decs)\n",
    "  return outputs"
   ]
  },
  {
   "cell_type": "markdown",
   "metadata": {
    "id": "q08YpCm6tP_9"
   },
   "source": [
    "## Random predictions"
   ]
  },
  {
   "cell_type": "code",
   "execution_count": 7,
   "metadata": {
    "ExecuteTime": {
     "end_time": "2024-01-11T09:07:09.237494500Z",
     "start_time": "2024-01-11T09:07:03.150241300Z"
    },
    "colab": {
     "base_uri": "https://localhost:8080/"
    },
    "executionInfo": {
     "elapsed": 19058,
     "status": "ok",
     "timestamp": 1704975542588,
     "user": {
      "displayName": "Marco Russodivito",
      "userId": "05013084347772678948"
     },
     "user_tz": -60
    },
    "id": "-DgTSrZbJ8iD",
    "outputId": "0c55c48a-9552-4f45-e7d4-c19798acf787"
   },
   "outputs": [
    {
     "name": "stderr",
     "output_type": "stream",
     "text": [
      "100%|██████████| 1/1 [00:08<00:00,  8.86s/it]\n"
     ]
    },
    {
     "name": "stdout",
     "output_type": "stream",
     "text": [
      "\n",
      "original:  Con la prima Direttiva per la trasparenza dei documenti di fatturazione del Servizio Idrico Integrato, di cui alla deliberazione ARERA 586/2012/R/IDR, l'ARERA, al fine di rendere le bollette più comprensibili e trasparenti, ha introdotto uno schema di bolletta più esaustivo e più chiaro, corredato di spiegazioni.\n",
      "\n",
      "oracle:  Con la prima Direttiva per la trasparenza dei documenti di fatturazione del Servizio Idrico Integrato, l'ARERA ha introdotto un nuovo schema di bolletta che rende le bollette più chiare e facili da capire.\n",
      "\n",
      "model:  Con la prima Direttiva per la trasparenza dei documenti di fatturazione del Servizio Idrico Integrato, che è stata approvata con la deliberazione ARERA 586/2012/R/IDR, l'ARERA ha introdotto un nuovo schema di bolletta più chiaro e più chiaro, accompagnato da spiegazioni.\n",
      "----------------\n"
     ]
    },
    {
     "name": "stderr",
     "output_type": "stream",
     "text": [
      "100%|██████████| 1/1 [00:01<00:00,  1.05s/it]\n"
     ]
    },
    {
     "name": "stdout",
     "output_type": "stream",
     "text": [
      "\n",
      "original:  Ad oggi la compagine societaria di ASA SpA è costituita dai Comuni della Conferenza Territoriale n°5 \"Toscana Costa\" e da IRETI SpA (soggetto che ha incorporato AGA S.p.A detentrice della quota ceduta a seguito di procedura di gara ad evidenza pubblica avvenuta nel Giugno2004)\n",
      "\n",
      "oracle:  Attualmente, ASA SpA è posseduta dai Comuni della Conferenza Territoriale n°5 \"Toscana Costa\" e da IRETI SpA. Quest'ultima ha acquisito la partecipazione precedentemente detenuta da AGA S.p.A attraverso un'asta pubblica nel giugno 2004.\n",
      "\n",
      "model:  Attualmente, la società ASA SpA è formata dai Comuni della Conferenza Territoriale n°5 \"Toscana Costa\" e da IRETI SpA, che ha incorporato AGA S.p.A nella società AGA S.p.A. dopo la procedura di gara pubblica avvenuta nel Giugno 2004.\n",
      "----------------\n"
     ]
    },
    {
     "name": "stderr",
     "output_type": "stream",
     "text": [
      "100%|██████████| 1/1 [00:01<00:00,  1.36s/it]\n"
     ]
    },
    {
     "name": "stdout",
     "output_type": "stream",
     "text": [
      "\n",
      "original:  Prima dell'aggiudicazione, la stazione appaltante, ai sensi dell'art. 85 comma 5 del Codice, richiede al concorrente cui ha deciso di aggiudicare l'appalto di presentare i documenti di cui all'art. 86 del Codice, ai fini della prova dell'assenza dei motivi di esclusione di cui all'art. 80 (ad eccezione, con riferimento ai subappaltatori, del comma 4) e del rispetto dei criteri di selezione di cui all'art. 83 del medesimo Codice. Tale verifica avverrà attraverso l'utilizzo del sistema AVCPass.\n",
      "\n",
      "oracle:  Prima di assegnare il contratto, l'ente che lo assegna chiede al concorrente prescelto di presentare i documenti richiesti per dimostrare che non ci sono motivi per escluderlo e che rispetta i criteri di selezione. Questo controllo avverrà tramite il sistema AVCPass.\n",
      "\n",
      "model:  Prima di vincere l'appalto, l'ente che ha indetto l'appalto deve chiedere al concorrente che ha vinto l'appalto di presentare i documenti richiesti dall'articolo 86 del Codice. Questo serve per dimostrare che non ci sono motivi di esclusione come previsto dall'articolo 80 del Codice. Questo controllo verrà fatto utilizzando il sistema AVCPass.\n",
      "----------------\n"
     ]
    },
    {
     "name": "stderr",
     "output_type": "stream",
     "text": [
      "100%|██████████| 1/1 [00:00<00:00,  1.49it/s]\n"
     ]
    },
    {
     "name": "stdout",
     "output_type": "stream",
     "text": [
      "\n",
      "original:  La compartecipazione al costo del servizio viene determinata secondo i parametri del \"Regolamento relativo all'erogazione degli interventi e dei servizi sociali alla persona\" (deliberazione C.C. 79/2016).\n",
      "\n",
      "oracle:  La quota da pagare per il servizio viene stabilita seguendo le regole del \"Regolamento per la fornitura di aiuti e servizi sociali alle persone\" (decisione C.C. 79/2016).\n",
      "\n",
      "model:  La quota che devi pagare per il servizio viene calcolata seguendo le regole del \"Regolamento per la fornitura di aiuti e servizi sociali\" (decisione C.C. 79/2016).\n",
      "----------------\n"
     ]
    },
    {
     "name": "stderr",
     "output_type": "stream",
     "text": [
      "100%|██████████| 1/1 [00:01<00:00,  1.54s/it]\n"
     ]
    },
    {
     "name": "stdout",
     "output_type": "stream",
     "text": [
      "\n",
      "original:  L'offerta riabilitativa territoriale per le persone con disabilità è graduata in trattamenti intensivi, estensivi e socio-riabilitativi di mantenimento, erogabili in nuclei, residenziali e semiresidenziali. All'interno delle singole strutture possono coesistere nuclei diversi, come per le strutture dedite all'assistenza delle persone non autosufficienti, anche anziane (intensivo, estensivo, socio-riabilitativo di mantenimento).\n",
      "\n",
      "oracle:  Le persone con disabilità possono ricevere diversi tipi di cure nel loro territorio. Queste cure possono essere più intense, più prolungate nel tempo o orientate a mantenere le abilità acquisite. Le cure possono avvenire in centri dove si vive a tempo pieno, a metà tempo o solo durante il giorno. All'interno di questi centri, ci possono essere diversi gruppi di persone con bisogni diversi, ad esempio persone anziane che hanno bisogno di assistenza intensiva, prolungata o di mantenimento delle abilità.\n",
      "\n",
      "model:  L'offerta di riabilitazione per le persone con disabilità è diversa in base a trattamenti intensivi, estensivi e socio-riabilitativi. Questi trattamenti possono essere prolungati o prolungati in gruppi, case o semiresidenziali. Nei centri specializzati possono esserci anche gruppi diversi, come per le persone non autosufficienti, anche anziane, che necessitano di cure di mantenimento.\n",
      "----------------\n"
     ]
    },
    {
     "name": "stderr",
     "output_type": "stream",
     "text": [
      "100%|██████████| 1/1 [00:01<00:00,  1.38s/it]\n"
     ]
    },
    {
     "name": "stdout",
     "output_type": "stream",
     "text": [
      "\n",
      "original:  Si conferma inoltre la legittimità al mantenimento della partecipazione in IMM Carrafiere SpA nonostante la società sia soggetta ad un profondo processo di razionalizzazione della gestione aziendale non ancora conclusosi, essenzialmente a causa delle ripercussioni negative della pandemia da Covid 19.\n",
      "\n",
      "oracle:  Si conferma che è legittimo mantenere la partecipazione nella società IMM Carrafiere SpA, anche se sta affrontando problemi nella gestione a causa della pandemia da Covid-19.\n",
      "\n",
      "model:  Si conferma che la partecipazione in IMM Carrafiere SpA è legittimo, nonostante la società è in una situazione difficile e non ha ancora completato i suoi processi. Questo è dovuto a causa delle conseguenze negative della pandemia da Covid 19.\n",
      "----------------\n"
     ]
    },
    {
     "name": "stderr",
     "output_type": "stream",
     "text": [
      "100%|██████████| 1/1 [00:01<00:00,  1.85s/it]\n"
     ]
    },
    {
     "name": "stdout",
     "output_type": "stream",
     "text": [
      "\n",
      "original:  Infine, un ambito strategico distinto dai precedenti e rispetto al quale è necessario intervenire, specie in prospettiva preventiva, riguarda l'individuazione precoce dei minori con problematiche comportamentali, in considerazione, da un lato, dell'incremento di tali situazioni di fragilità e disagio, dall'altro, dell'efficacia di programmi riabilitativi avviati già in età infantile nella modifica del decorso dei problemi di comportamento, con guadagni in termini di minori limitazioni e minor fabbisogno di sostegni in età adulta. A tal fine è prioritario prevede la sperimentazione di metodologie e strumenti multidimensionali per lo screening precoce delle predette problematiche comportamentali, con l'implementazione di tecniche riabilitative specifiche che contemplino anche il coinvolgimento diretto del mondo della scuola e della famiglia attraverso appositi percorsi formativi e informativi.\n",
      "\n",
      "oracle:  Un'altra area importante su cui concentrarsi è l'individuazione precoce dei bambini con problemi comportamentali. Questo è importante perché sempre più bambini stanno affrontando difficoltà e disagi, ma intervenire presto con programmi di riabilitazione può aiutare a cambiare il corso dei problemi comportamentali, riducendo le limitazioni e il bisogno di supporti da adulti. Per fare questo, è importante testare nuovi metodi per individuare presto questi problemi e sviluppare programmi di riabilitazione che coinvolgano la scuola e la famiglia attraverso corsi di formazione e informazione specifici.\n",
      "\n",
      "model:  Un modo strategico per affrontare situazioni difficili e a lungo termine è individuare rapidamente i bambini con problemi comportamentali, in considerazione dell'aumento di queste situazioni di fragilità e disagio. Dall'altro lato, è importante sperimentare nuovi modi di aiutare i bambini con problemi comportamentali, in considerazione dell'aumento di queste situazioni di fragilità e disagio, dall'altro, dell'efficacia dei programmi riabilitativi avviati in età infantile, con guadagni minori. È importante anche sperimentare nuove forme di screening precoce delle situazioni comportamentali, coinvolgendo direttamente la scuola e la famiglia attraverso percorsi formativi specifici.\n",
      "----------------\n"
     ]
    },
    {
     "name": "stderr",
     "output_type": "stream",
     "text": [
      "100%|██████████| 1/1 [00:00<00:00,  1.57it/s]\n"
     ]
    },
    {
     "name": "stdout",
     "output_type": "stream",
     "text": [
      "\n",
      "original:  Le modalità di eleggibilità dei pazienti per i percorsi di assistenza e la successiva presa in carico attraverso una valutazione multidisciplinare e multiprofessionale delle condizioni e dei bisogni della persona, premessa indispensabile per definire l'attuazione di politiche e di interventi mirati ed efficaci;\n",
      "\n",
      "oracle:  Come vengono scelti i pazienti per ricevere cure mediche e come vengono valutate le loro condizioni e i loro bisogni da un team di esperti. Questo è importante per decidere quali cure e interventi sono più adatti ed efficaci per loro.\n",
      "\n",
      "model:  Le persone possono essere eleggibili per ricevere assistenza e cure mediche, e poi si possono valutare le condizioni e i bisogni della persona in modo completo. Questo è importante per definire politiche e interventi mirati e efficaci.\n",
      "----------------\n"
     ]
    },
    {
     "name": "stderr",
     "output_type": "stream",
     "text": [
      "100%|██████████| 1/1 [00:00<00:00,  4.90it/s]\n"
     ]
    },
    {
     "name": "stdout",
     "output_type": "stream",
     "text": [
      "\n",
      "original:  Esercizio di funzioni di indirizzo e monitoraggio sulla tematica della sicurezza delle cure;\n",
      "\n",
      "oracle:  Esercizio su come gestire e controllare la sicurezza delle cure mediche.\n",
      "\n",
      "model:  Attività per controllare e monitorare la sicurezza delle cure mediche.\n",
      "----------------\n"
     ]
    },
    {
     "name": "stderr",
     "output_type": "stream",
     "text": [
      "100%|██████████| 1/1 [00:01<00:00,  1.10s/it]"
     ]
    },
    {
     "name": "stdout",
     "output_type": "stream",
     "text": [
      "\n",
      "original:  L'organizzazione ha individuato le aree e i processi a rischio. In particolare, sono individuati e gestiti i processi relativi a:\n",
      "- la corretta identificazione del paziente;\n",
      "- l'esecuzione delle principali manovre strumentali previste;\n",
      "- la corretta gestione dei dispositivi medici durante le attività;\n",
      "- la gestione di situazioni d'emergenza clinica e il trasferimento del paziente in idonea struttura;\n",
      "- la corretta raccolta, gestione e trasporto sicuro dei campioni di laboratorio\n",
      "\n",
      "oracle:  L'organizzazione ha individuato le aree e i processi a rischio, come ad esempio l'identificazione del paziente, l'uso degli strumenti medici, la gestione dei dispositivi durante le attività, l'intervento in situazioni di emergenza e il trasferimento del paziente in una struttura adeguata, e infine la raccolta, gestione e trasporto sicuro dei campioni di laboratorio.\n",
      "\n",
      "model:  L'organizzazione ha identificato le aree e i processi a rischio. In particolare, si occupa di:\n",
      "- identificare correttamente il paziente;\n",
      "- eseguire le principali manovre strumentali previste;\n",
      "- gestire correttamente i dispositivi medici durante le attività;\n",
      "- gestire situazioni di emergenza clinica e trasferire il paziente in una struttura adatta;\n",
      "- raccogliere, gestire e trasportare in modo sicuro i campioni di laboratorio.\n",
      "----------------\n"
     ]
    },
    {
     "name": "stderr",
     "output_type": "stream",
     "text": [
      "\n"
     ]
    }
   ],
   "source": [
    "for s in test_df.sample(10).to_dict(orient='records'):\n",
    "  output = predict([s['original_text']])[0]\n",
    "  print(\"\\noriginal: \", s['original_text'])\n",
    "  print(\"\\noracle: \", s['oracle_text'])\n",
    "  print(\"\\nmodel: \", output)\n",
    "  print('----------------')"
   ]
  },
  {
   "cell_type": "markdown",
   "metadata": {
    "id": "q76hte_4tUUQ"
   },
   "source": [
    "## Run all predictions"
   ]
  },
  {
   "cell_type": "code",
   "execution_count": 9,
   "metadata": {
    "ExecuteTime": {
     "end_time": "2024-01-11T10:54:52.619827600Z",
     "start_time": "2024-01-11T09:07:09.243493400Z"
    },
    "colab": {
     "base_uri": "https://localhost:8080/"
    },
    "executionInfo": {
     "elapsed": 11758128,
     "status": "ok",
     "timestamp": 1704987306500,
     "user": {
      "displayName": "Marco Russodivito",
      "userId": "05013084347772678948"
     },
     "user_tz": -60
    },
    "id": "NbDDDdVLKxg7",
    "outputId": "9518dd74-8bec-4096-c23a-85dffd13b6b2"
   },
   "outputs": [
    {
     "name": "stderr",
     "output_type": "stream",
     "text": [
      "100%|██████████| 14679/14679 [2:35:18<00:00,  1.58it/s]\n",
      "100%|██████████| 1835/1835 [20:32<00:00,  1.49it/s]\n",
      "100%|██████████| 1835/1835 [20:07<00:00,  1.52it/s]\n"
     ]
    }
   ],
   "source": [
    "train_df['model_text'] = predict(train_df['original_text'].tolist(), batch_size=1)\n",
    "test_df['model_text'] = predict(test_df['original_text'].tolist(), batch_size=1)\n",
    "val_df['model_text'] = predict(val_df['original_text'].tolist(), batch_size=1)"
   ]
  },
  {
   "cell_type": "markdown",
   "metadata": {
    "id": "742Uidc_tYe5"
   },
   "source": [
    "## Save simplified datasets"
   ]
  },
  {
   "cell_type": "code",
   "execution_count": 10,
   "metadata": {
    "ExecuteTime": {
     "end_time": "2024-01-11T10:54:52.945701700Z",
     "start_time": "2024-01-11T10:54:52.630339400Z"
    },
    "executionInfo": {
     "elapsed": 1815,
     "status": "ok",
     "timestamp": 1704987308313,
     "user": {
      "displayName": "Marco Russodivito",
      "userId": "05013084347772678948"
     },
     "user_tz": -60
    },
    "id": "LcNZ9y7JLDH2"
   },
   "outputs": [],
   "source": [
    "train_df.to_csv('./train_simplified.tsv', index=False, sep='\\t')\n",
    "test_df.to_csv('./test_simplified.tsv', index=False, sep='\\t')\n",
    "val_df.to_csv('./val_simplified.tsv', index=False, sep='\\t')"
   ]
  }
 ],
 "metadata": {
  "accelerator": "GPU",
  "colab": {
   "collapsed_sections": [
    "ngy2NOGJtHDP",
    "jvcgTTzMtJre",
    "I0B2MMq3tLn1",
    "q08YpCm6tP_9",
    "q76hte_4tUUQ",
    "742Uidc_tYe5"
   ],
   "gpuType": "T4",
   "provenance": []
  },
  "gpuClass": "standard",
  "kernelspec": {
   "display_name": "Python 3 (ipykernel)",
   "language": "python",
   "name": "python3"
  },
  "language_info": {
   "name": "python"
  }
 },
 "nbformat": 4,
 "nbformat_minor": 0
}
