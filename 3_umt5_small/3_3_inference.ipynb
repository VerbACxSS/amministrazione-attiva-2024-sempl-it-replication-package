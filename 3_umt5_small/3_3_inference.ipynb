{
 "cells": [
  {
   "cell_type": "markdown",
   "metadata": {
    "id": "X6Cz36RKs9W9"
   },
   "source": [
    "# Inference"
   ]
  },
  {
   "cell_type": "markdown",
   "metadata": {
    "id": "U1yzKv4WBWDn"
   },
   "source": [
    "## Dependencies and imports"
   ]
  },
  {
   "cell_type": "code",
   "execution_count": 2,
   "metadata": {
    "executionInfo": {
     "elapsed": 7495,
     "status": "ok",
     "timestamp": 1704787693842,
     "user": {
      "displayName": "Marco Russodivito",
      "userId": "11689195136129402142"
     },
     "user_tz": -60
    },
    "id": "tSDf1n7iIJo_"
   },
   "outputs": [],
   "source": [
    "import numpy as np\n",
    "import pandas as pd\n",
    "from tqdm import tqdm\n",
    "\n",
    "from transformers import AutoTokenizer, AutoModelForSeq2SeqLM"
   ]
  },
  {
   "cell_type": "markdown",
   "metadata": {
    "id": "ngy2NOGJtHDP"
   },
   "source": [
    "## Load fintuned model"
   ]
  },
  {
   "cell_type": "code",
   "execution_count": 4,
   "metadata": {
    "colab": {
     "base_uri": "https://localhost:8080/"
    },
    "executionInfo": {
     "elapsed": 21574,
     "status": "ok",
     "timestamp": 1704787731307,
     "user": {
      "displayName": "Marco Russodivito",
      "userId": "11689195136129402142"
     },
     "user_tz": -60
    },
    "id": "u_zs8EqAIjsY",
    "outputId": "925c81c6-0cc2-4aef-ac9e-9cfcd5931dc3"
   },
   "outputs": [
    {
     "data": {
      "text/plain": [
       "UMT5ForConditionalGeneration(\n",
       "  (shared): Embedding(256384, 512)\n",
       "  (encoder): UMT5Stack(\n",
       "    (embed_tokens): Embedding(256384, 512)\n",
       "    (block): ModuleList(\n",
       "      (0-7): 8 x UMT5Block(\n",
       "        (layer): ModuleList(\n",
       "          (0): UMT5LayerSelfAttention(\n",
       "            (SelfAttention): UMT5Attention(\n",
       "              (q): Linear(in_features=512, out_features=384, bias=False)\n",
       "              (k): Linear(in_features=512, out_features=384, bias=False)\n",
       "              (v): Linear(in_features=512, out_features=384, bias=False)\n",
       "              (o): Linear(in_features=384, out_features=512, bias=False)\n",
       "              (relative_attention_bias): Embedding(32, 6)\n",
       "            )\n",
       "            (layer_norm): UMT5LayerNorm()\n",
       "            (dropout): Dropout(p=0.1, inplace=False)\n",
       "          )\n",
       "          (1): UMT5LayerFF(\n",
       "            (DenseReluDense): UMT5DenseGatedActDense(\n",
       "              (wi_0): Linear(in_features=512, out_features=1024, bias=False)\n",
       "              (wi_1): Linear(in_features=512, out_features=1024, bias=False)\n",
       "              (wo): Linear(in_features=1024, out_features=512, bias=False)\n",
       "              (dropout): Dropout(p=0.1, inplace=False)\n",
       "              (act): NewGELUActivation()\n",
       "            )\n",
       "            (layer_norm): UMT5LayerNorm()\n",
       "            (dropout): Dropout(p=0.1, inplace=False)\n",
       "          )\n",
       "        )\n",
       "      )\n",
       "    )\n",
       "    (final_layer_norm): UMT5LayerNorm()\n",
       "    (dropout): Dropout(p=0.1, inplace=False)\n",
       "  )\n",
       "  (decoder): UMT5Stack(\n",
       "    (embed_tokens): Embedding(256384, 512)\n",
       "    (block): ModuleList(\n",
       "      (0-7): 8 x UMT5Block(\n",
       "        (layer): ModuleList(\n",
       "          (0): UMT5LayerSelfAttention(\n",
       "            (SelfAttention): UMT5Attention(\n",
       "              (q): Linear(in_features=512, out_features=384, bias=False)\n",
       "              (k): Linear(in_features=512, out_features=384, bias=False)\n",
       "              (v): Linear(in_features=512, out_features=384, bias=False)\n",
       "              (o): Linear(in_features=384, out_features=512, bias=False)\n",
       "              (relative_attention_bias): Embedding(32, 6)\n",
       "            )\n",
       "            (layer_norm): UMT5LayerNorm()\n",
       "            (dropout): Dropout(p=0.1, inplace=False)\n",
       "          )\n",
       "          (1): UMT5LayerCrossAttention(\n",
       "            (EncDecAttention): UMT5Attention(\n",
       "              (q): Linear(in_features=512, out_features=384, bias=False)\n",
       "              (k): Linear(in_features=512, out_features=384, bias=False)\n",
       "              (v): Linear(in_features=512, out_features=384, bias=False)\n",
       "              (o): Linear(in_features=384, out_features=512, bias=False)\n",
       "            )\n",
       "            (layer_norm): UMT5LayerNorm()\n",
       "            (dropout): Dropout(p=0.1, inplace=False)\n",
       "          )\n",
       "          (2): UMT5LayerFF(\n",
       "            (DenseReluDense): UMT5DenseGatedActDense(\n",
       "              (wi_0): Linear(in_features=512, out_features=1024, bias=False)\n",
       "              (wi_1): Linear(in_features=512, out_features=1024, bias=False)\n",
       "              (wo): Linear(in_features=1024, out_features=512, bias=False)\n",
       "              (dropout): Dropout(p=0.1, inplace=False)\n",
       "              (act): NewGELUActivation()\n",
       "            )\n",
       "            (layer_norm): UMT5LayerNorm()\n",
       "            (dropout): Dropout(p=0.1, inplace=False)\n",
       "          )\n",
       "        )\n",
       "      )\n",
       "    )\n",
       "    (final_layer_norm): UMT5LayerNorm()\n",
       "    (dropout): Dropout(p=0.1, inplace=False)\n",
       "  )\n",
       "  (lm_head): Linear(in_features=512, out_features=256384, bias=False)\n",
       ")"
      ]
     },
     "execution_count": 4,
     "metadata": {},
     "output_type": "execute_result"
    }
   ],
   "source": [
    "tokenizer = AutoTokenizer.from_pretrained(\"VerbACxSS/sempl-it-umt5-small\")\n",
    "model = AutoModelForSeq2SeqLM.from_pretrained(\"VerbACxSS/sempl-it-umt5-small\")\n",
    "model.to('cuda')"
   ]
  },
  {
   "cell_type": "markdown",
   "metadata": {
    "id": "jvcgTTzMtJre"
   },
   "source": [
    "## Load datasets"
   ]
  },
  {
   "cell_type": "code",
   "execution_count": 5,
   "metadata": {
    "executionInfo": {
     "elapsed": 1115,
     "status": "ok",
     "timestamp": 1704787732420,
     "user": {
      "displayName": "Marco Russodivito",
      "userId": "11689195136129402142"
     },
     "user_tz": -60
    },
    "id": "X6KiE9ouIY5A"
   },
   "outputs": [],
   "source": [
    "train_df = pd.read_csv('../dataset/train.tsv', sep='\\t', encoding='utf-8')\n",
    "test_df = pd.read_csv('../dataset/test.tsv', sep='\\t', encoding='utf-8')\n",
    "val_df = pd.read_csv('../dataset/val.tsv', sep='\\t', encoding='utf-8')"
   ]
  },
  {
   "cell_type": "markdown",
   "metadata": {
    "id": "I0B2MMq3tLn1"
   },
   "source": [
    "## Utilities"
   ]
  },
  {
   "cell_type": "code",
   "execution_count": 6,
   "metadata": {
    "executionInfo": {
     "elapsed": 2,
     "status": "ok",
     "timestamp": 1704787732420,
     "user": {
      "displayName": "Marco Russodivito",
      "userId": "11689195136129402142"
     },
     "user_tz": -60
    },
    "id": "0gK3m8G4JG3S"
   },
   "outputs": [],
   "source": [
    "PREFIX = \"semplifica: \"\n",
    "TOKENIZER_MAX_LENGHT = 1024\n",
    "\n",
    "def predict(samples_array, batch_size=16):\n",
    "  prompts = [PREFIX + s for s in samples_array]\n",
    "  batched_prompt = [prompts[i:i+batch_size] for i in range(0, len(prompts), batch_size)]\n",
    "\n",
    "  outputs = []\n",
    "  for batch in tqdm(batched_prompt):\n",
    "    x = tokenizer(batch, max_length=TOKENIZER_MAX_LENGHT, truncation=True, padding=True, return_tensors='pt').input_ids.to('cuda')\n",
    "    y =  model.generate(x, max_new_tokens=TOKENIZER_MAX_LENGHT)\n",
    "    decoded = tokenizer.batch_decode(y, skip_special_tokens=True, clean_up_tokenization_spaces=True, max_length=TOKENIZER_MAX_LENGHT, truncation=True)\n",
    "    outputs.extend(decoded)\n",
    "  return outputs"
   ]
  },
  {
   "cell_type": "markdown",
   "metadata": {
    "id": "q08YpCm6tP_9"
   },
   "source": [
    "## Random predictions"
   ]
  },
  {
   "cell_type": "code",
   "execution_count": 7,
   "metadata": {
    "colab": {
     "base_uri": "https://localhost:8080/"
    },
    "executionInfo": {
     "elapsed": 10233,
     "status": "ok",
     "timestamp": 1704787742651,
     "user": {
      "displayName": "Marco Russodivito",
      "userId": "11689195136129402142"
     },
     "user_tz": -60
    },
    "id": "-DgTSrZbJ8iD",
    "outputId": "259224fc-cb90-40cd-bf42-db72dd8f5a2f"
   },
   "outputs": [
    {
     "name": "stderr",
     "output_type": "stream",
     "text": [
      "100%|██████████| 1/1 [00:03<00:00,  3.27s/it]\n"
     ]
    },
    {
     "name": "stdout",
     "output_type": "stream",
     "text": [
      "\n",
      "original:  Vi è evidenza del monitoraggio dell'efficacia delle attività di formazione e coinvolgimento del personale per la sicurezza della struttura e dell'ambiente di lavoro, anche attraverso dimostrazioni, simulazioni e altri metodi idonei opportunamente documentate.\n",
      "\n",
      "oracle:  Si controlla se le attività di formazione e coinvolgimento del personale per la sicurezza sul lavoro funzionano bene. Questo controllo avviene attraverso dimostrazioni, simulazioni e altri metodi che vengono registrati.\n",
      "\n",
      "model:  Si controlla se le attività di formazione e coinvolgimento del personale sono efficaci, anche attraverso dimostrazioni, simulazioni e altri metodi che sono stati documentati.\n",
      "----------------\n"
     ]
    },
    {
     "name": "stderr",
     "output_type": "stream",
     "text": [
      "100%|██████████| 1/1 [00:01<00:00,  1.37s/it]\n"
     ]
    },
    {
     "name": "stdout",
     "output_type": "stream",
     "text": [
      "\n",
      "original:  Nel corso del 2021, Gestione Ambientale è altresì diventata anche \"società di ingegneria\" ai sensi del d.lgs. n. 50/2016 e del Decreto del Ministero delle Infrastrutture 2 dicembre 2016, n. 263, in grado di svolgere servizi di progettazione, consulenza tecnica e gestione cantieri per qualsiasi soggetto pubblico e privato.\n",
      "\n",
      "oracle:  Nel 2021, la società Gestione Ambientale ha ottenuto la qualifica di \"società di ingegneria\", che le consente di svolgere servizi di progettazione, consulenza tecnica e gestione cantieri per enti pubblici e privati, in conformità alle normative vigenti.\n",
      "\n",
      "model:  Nel 2021, Gestione Ambientale è diventata una società di ingegneria, come previsto dal decreto legislativo n. 50/2016 e del Decreto del Ministero delle Infrastrutture n. 263. Questo è stato fatto per progettare, consulenza tecnica e gestire cantieri per qualsiasi soggetto pubblico e privato.\n",
      "----------------\n"
     ]
    },
    {
     "name": "stderr",
     "output_type": "stream",
     "text": [
      "100%|██████████| 1/1 [00:00<00:00,  2.88it/s]\n"
     ]
    },
    {
     "name": "stdout",
     "output_type": "stream",
     "text": [
      "\n",
      "original:  Il termine per l'inoltro della richiesta di rateizzazione è fissato nel decimo giorno solare successivo alla scadenza della relativa fattura.\n",
      "\n",
      "oracle:  La richiesta di pagare a rate la fattura deve essere inviata entro dieci giorni dalla scadenza della fattura stessa.\n",
      "\n",
      "model:  Il termine per ottenere la rateizzazione è stabilito nel decimo giorno dopo la scadenza della fattura.\n",
      "----------------\n"
     ]
    },
    {
     "name": "stderr",
     "output_type": "stream",
     "text": [
      "100%|██████████| 1/1 [00:00<00:00,  1.65it/s]\n"
     ]
    },
    {
     "name": "stdout",
     "output_type": "stream",
     "text": [
      "\n",
      "original:  È buona prassi che l'organizzazione descriva la tipologia e le caratteristiche delle prestazioni e dei servizi erogati e individui i metodi di lavoro da adottarsi, come pratica del governo clinico sui quali fondare azioni successive di valutazione della performance e della comunicazione con i pazienti ed i cittadini\n",
      "\n",
      "oracle:  È importante che un'organizzazione spieghi che tipo di servizi offre e come li eroga, e che stabilisca i metodi di lavoro da seguire. Questo è importante per valutare come funziona e per comunicare con i pazienti e i cittadini.\n",
      "\n",
      "model:  È importante che un'organizzazione spieghi quali servizi offre e come li svolge, in modo da poter valutare come sta andando e comunicare meglio con i pazienti e i cittadini.\n",
      "----------------\n"
     ]
    },
    {
     "name": "stderr",
     "output_type": "stream",
     "text": [
      "100%|██████████| 1/1 [00:00<00:00,  2.10it/s]\n"
     ]
    },
    {
     "name": "stdout",
     "output_type": "stream",
     "text": [
      "\n",
      "original:  Il gestore è tenuto ad emettere un numero minimo di bollette nell'anno differenziato in funzione dei consumi medi annui relativi alle ultime tre annualità. \n",
      "\n",
      "oracle:  Il gestore deve inviare un certo numero minimo di bollette ogni anno, a seconda di quanto si consuma in media nei tre anni precedenti.\n",
      "\n",
      "model:  Il gestore deve mettere un numero minimo di bollette ogni tre anni, considerando i consumi medi annui delle ultime tre annualità.\n",
      "----------------\n"
     ]
    },
    {
     "name": "stderr",
     "output_type": "stream",
     "text": [
      "100%|██████████| 1/1 [00:00<00:00,  1.19it/s]\n"
     ]
    },
    {
     "name": "stdout",
     "output_type": "stream",
     "text": [
      "\n",
      "original:  Per gli abbonamenti IOVIAGGIO occorre essere muniti di:\n",
      "- tessera di riconoscimento IOVIAGGIO (o tagliando sostitutivo);\n",
      "- scontrino di ricarica in caso di abbonamento ricaricato sulla tessera elettronica (IOVIAGGIO)\n",
      "\n",
      "oracle:  Per avere un abbonamento IOVIAGGIO devi avere con te la tua tessera IOVIAGGIO o un tagliando sostitutivo, e anche lo scontrino di ricarica se hai ricaricato l'abbonamento sulla tessera elettronica (IOVIAGGIO).\n",
      "\n",
      "model:  Per gli abbonamenti IOVIAGGIO devi avere:- tessera di riconoscimento IOVIAGGIO (o tagliando sostitutivo);- scontrino di ricarica se hai abbonamento sulla tessera elettronica (IOVIAGGIO).\n",
      "----------------\n"
     ]
    },
    {
     "name": "stderr",
     "output_type": "stream",
     "text": [
      "100%|██████████| 1/1 [00:00<00:00,  1.01it/s]\n"
     ]
    },
    {
     "name": "stdout",
     "output_type": "stream",
     "text": [
      "\n",
      "original:  Il Gestore rende disponibili le informazioni relative a:\n",
      "- ai livelli di qualità garantiti dal Gestore nel rispetto della normativa vigente, ai livelli di qualità raggiunti l'anno precedente e alla Carta dei servizi in vigore;\n",
      "- alla composizione analitica dell'acqua distribuita;\n",
      "- alle condizioni contrattuali di fornitura in vigore;\n",
      "- alle procedure di reclamo\n",
      "\n",
      "oracle:  Il Gestore mette a disposizione le seguenti informazioni:\n",
      "- La qualità dell'acqua fornita, rispettando le regole stabilite e i risultati ottenuti l'anno precedente, insieme alla Carta dei servizi attuale;\n",
      "- I dettagli sull'acqua distribuita;\n",
      "- Le condizioni del contratto di fornitura attuale;\n",
      "- Le procedure per presentare reclami.\n",
      "\n",
      "model:  Il Gestore fornisce informazioni su:- i livelli di qualità garantiti dal Gestore, rispettando le regole e le regole attuali;- la composizione analitica dell'acqua distribuita;- le condizioni contrattuali di fornitura in vigore;- le procedure di reclamo.\n",
      "----------------\n"
     ]
    },
    {
     "name": "stderr",
     "output_type": "stream",
     "text": [
      "100%|██████████| 1/1 [00:00<00:00,  1.68it/s]\n"
     ]
    },
    {
     "name": "stdout",
     "output_type": "stream",
     "text": [
      "\n",
      "original:  Iscrizione Albo Gestori rifiuti Cat. 1 Classe B per la Gestione dei servizi di raccolta rifiuti e di igiene urbana Comunale con integrazione della Classe B per le attività di spazzamento e gestione di centri di raccolta comunali;\n",
      "\n",
      "oracle:  Iscrizione all'elenco dei gestori dei rifiuti categoria 1, classe B per gestire la raccolta dei rifiuti e la pulizia delle strade in città, e anche per gestire i centri di raccolta dei rifiuti della città.\n",
      "\n",
      "model:  Iscrizione del Albo Gestori rifiuti per gestire i servizi di raccolta rifiuti e pulizia della città, con l'integrazione della Classe B per gestire i centri di raccolta comunali.\n",
      "----------------\n"
     ]
    },
    {
     "name": "stderr",
     "output_type": "stream",
     "text": [
      "100%|██████████| 1/1 [00:00<00:00,  5.01it/s]\n"
     ]
    },
    {
     "name": "stdout",
     "output_type": "stream",
     "text": [
      "\n",
      "original:  Vocabolario comune per gli appalti\n",
      "\n",
      "oracle:  Parole importanti per fare contratti per lavori o servizi.\n",
      "\n",
      "model:  Il nome comune per gli appalti\n",
      "----------------\n"
     ]
    },
    {
     "name": "stderr",
     "output_type": "stream",
     "text": [
      "100%|██████████| 1/1 [00:01<00:00,  1.31s/it]"
     ]
    },
    {
     "name": "stdout",
     "output_type": "stream",
     "text": [
      "\n",
      "original:  Avvisi di saldo/conguaglio, che liquidano la tassa dovuta per l'anno d'imposta ed addebitano il netto da versare detraendo gli acconti pagati ed eventuali rimborsi/compensazioni disposte dall'ufficio; sono recapitati all'indirizzo di residenza di ogni singolo contribuente tramite posta ordinaria, mail o PEC;\n",
      "\n",
      "oracle:  Viene inviato un avviso di saldo o conguaglio per pagare le tasse dovute per l'anno fiscale. Questo avviso indica l'importo che devi ancora pagare, dopo aver sottratto i pagamenti anticipati e eventuali rimborsi. Può essere recapitato a casa tramite posta ordinaria, via email o tramite Posta Elettronica Certificata (PEC).\n",
      "\n",
      "model:  Avvisi di saldo o conguaglio che liquidano la tassa dovuta per l'anno d'imposta e addebiscono il netto da pagare, come ad esempio i pagamenti pagati e eventuali rimborsi o compensazioni stabiliti dall'ufficio. Questi avvisi devono essere inviati all'indirizzo di residenza di ogni contribuente tramite posta ordinaria, email o PEC.\n",
      "----------------\n"
     ]
    },
    {
     "name": "stderr",
     "output_type": "stream",
     "text": [
      "\n"
     ]
    }
   ],
   "source": [
    "for s in test_df.sample(10).to_dict(orient='records'):\n",
    "  output = predict([s['original_text']])[0]\n",
    "  print(\"\\noriginal: \", s['original_text'])\n",
    "  print(\"\\noracle: \", s['oracle_text'])\n",
    "  print(\"\\nmodel: \", output)\n",
    "  print('----------------')"
   ]
  },
  {
   "cell_type": "markdown",
   "metadata": {
    "id": "q76hte_4tUUQ"
   },
   "source": [
    "## Run all predictions"
   ]
  },
  {
   "cell_type": "code",
   "execution_count": 8,
   "metadata": {
    "colab": {
     "base_uri": "https://localhost:8080/"
    },
    "executionInfo": {
     "elapsed": 3610424,
     "status": "ok",
     "timestamp": 1704791353066,
     "user": {
      "displayName": "Marco Russodivito",
      "userId": "11689195136129402142"
     },
     "user_tz": -60
    },
    "id": "NbDDDdVLKxg7",
    "outputId": "121b6dc5-bd4a-4727-ffbf-a53bf232fa10"
   },
   "outputs": [
    {
     "name": "stderr",
     "output_type": "stream",
     "text": [
      "100%|██████████| 459/459 [49:32<00:00,  6.48s/it]\n",
      "100%|██████████| 58/58 [05:11<00:00,  5.36s/it]\n",
      "100%|██████████| 58/58 [05:26<00:00,  5.63s/it]\n"
     ]
    }
   ],
   "source": [
    "train_df['model_text'] = predict(train_df['original_text'].tolist(), batch_size=32)\n",
    "test_df['model_text'] = predict(test_df['original_text'].tolist(), batch_size=32)\n",
    "val_df['model_text'] = predict(val_df['original_text'].tolist(), batch_size=32)"
   ]
  },
  {
   "cell_type": "markdown",
   "metadata": {
    "id": "742Uidc_tYe5"
   },
   "source": [
    "## Save simplified datasets"
   ]
  },
  {
   "cell_type": "code",
   "execution_count": 9,
   "metadata": {
    "executionInfo": {
     "elapsed": 816,
     "status": "ok",
     "timestamp": 1704791353880,
     "user": {
      "displayName": "Marco Russodivito",
      "userId": "11689195136129402142"
     },
     "user_tz": -60
    },
    "id": "LcNZ9y7JLDH2"
   },
   "outputs": [],
   "source": [
    "train_df.to_csv('./train_simplified.tsv', index=False, sep='\\t')\n",
    "test_df.to_csv('./test_simplified.tsv', index=False, sep='\\t')\n",
    "val_df.to_csv('./val_simplified.tsv', index=False, sep='\\t')"
   ]
  }
 ],
 "metadata": {
  "accelerator": "GPU",
  "colab": {
   "collapsed_sections": [
    "ngy2NOGJtHDP",
    "jvcgTTzMtJre",
    "I0B2MMq3tLn1",
    "q08YpCm6tP_9",
    "q76hte_4tUUQ",
    "742Uidc_tYe5"
   ],
   "gpuType": "T4",
   "provenance": []
  },
  "gpuClass": "standard",
  "kernelspec": {
   "display_name": "Python 3 (ipykernel)",
   "language": "python",
   "name": "python3"
  },
  "language_info": {
   "name": "python"
  }
 },
 "nbformat": 4,
 "nbformat_minor": 0
}
