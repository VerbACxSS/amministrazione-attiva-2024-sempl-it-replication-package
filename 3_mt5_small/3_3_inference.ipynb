{
 "cells": [
  {
   "cell_type": "markdown",
   "metadata": {
    "id": "X6Cz36RKs9W9"
   },
   "source": [
    "# Inference"
   ]
  },
  {
   "cell_type": "markdown",
   "metadata": {
    "id": "U1yzKv4WBWDn"
   },
   "source": [
    "## Dependencies and imports"
   ]
  },
  {
   "cell_type": "code",
   "execution_count": null,
   "metadata": {
    "ExecuteTime": {
     "end_time": "2024-01-10T18:28:01.879950600Z",
     "start_time": "2024-01-10T18:27:59.716918700Z"
    },
    "id": "tSDf1n7iIJo_"
   },
   "outputs": [],
   "source": [
    "import numpy as np\n",
    "import pandas as pd\n",
    "from tqdm import tqdm\n",
    "\n",
    "from transformers import AutoTokenizer, AutoModelForSeq2SeqLM"
   ]
  },
  {
   "cell_type": "markdown",
   "metadata": {
    "id": "ngy2NOGJtHDP"
   },
   "source": [
    "## Load fintuned model"
   ]
  },
  {
   "cell_type": "code",
   "execution_count": null,
   "metadata": {
    "ExecuteTime": {
     "end_time": "2024-01-10T18:28:08.753771800Z",
     "start_time": "2024-01-10T18:28:05.941827100Z"
    },
    "colab": {
     "base_uri": "https://localhost:8080/"
    },
    "executionInfo": {
     "elapsed": 15661,
     "status": "ok",
     "timestamp": 1704723055259,
     "user": {
      "displayName": "Marco Russodivito",
      "userId": "05013084347772678948"
     },
     "user_tz": -60
    },
    "id": "u_zs8EqAIjsY",
    "outputId": "e6a4a122-37cd-4fce-ea21-1440469937e0"
   },
   "outputs": [
    {
     "data": {
      "text/plain": [
       "MT5ForConditionalGeneration(\n",
       "  (shared): Embedding(250112, 512)\n",
       "  (encoder): MT5Stack(\n",
       "    (embed_tokens): Embedding(250112, 512)\n",
       "    (block): ModuleList(\n",
       "      (0): MT5Block(\n",
       "        (layer): ModuleList(\n",
       "          (0): MT5LayerSelfAttention(\n",
       "            (SelfAttention): MT5Attention(\n",
       "              (q): Linear(in_features=512, out_features=384, bias=False)\n",
       "              (k): Linear(in_features=512, out_features=384, bias=False)\n",
       "              (v): Linear(in_features=512, out_features=384, bias=False)\n",
       "              (o): Linear(in_features=384, out_features=512, bias=False)\n",
       "              (relative_attention_bias): Embedding(32, 6)\n",
       "            )\n",
       "            (layer_norm): MT5LayerNorm()\n",
       "            (dropout): Dropout(p=0.1, inplace=False)\n",
       "          )\n",
       "          (1): MT5LayerFF(\n",
       "            (DenseReluDense): MT5DenseGatedActDense(\n",
       "              (wi_0): Linear(in_features=512, out_features=1024, bias=False)\n",
       "              (wi_1): Linear(in_features=512, out_features=1024, bias=False)\n",
       "              (wo): Linear(in_features=1024, out_features=512, bias=False)\n",
       "              (dropout): Dropout(p=0.1, inplace=False)\n",
       "              (act): NewGELUActivation()\n",
       "            )\n",
       "            (layer_norm): MT5LayerNorm()\n",
       "            (dropout): Dropout(p=0.1, inplace=False)\n",
       "          )\n",
       "        )\n",
       "      )\n",
       "      (1-7): 7 x MT5Block(\n",
       "        (layer): ModuleList(\n",
       "          (0): MT5LayerSelfAttention(\n",
       "            (SelfAttention): MT5Attention(\n",
       "              (q): Linear(in_features=512, out_features=384, bias=False)\n",
       "              (k): Linear(in_features=512, out_features=384, bias=False)\n",
       "              (v): Linear(in_features=512, out_features=384, bias=False)\n",
       "              (o): Linear(in_features=384, out_features=512, bias=False)\n",
       "            )\n",
       "            (layer_norm): MT5LayerNorm()\n",
       "            (dropout): Dropout(p=0.1, inplace=False)\n",
       "          )\n",
       "          (1): MT5LayerFF(\n",
       "            (DenseReluDense): MT5DenseGatedActDense(\n",
       "              (wi_0): Linear(in_features=512, out_features=1024, bias=False)\n",
       "              (wi_1): Linear(in_features=512, out_features=1024, bias=False)\n",
       "              (wo): Linear(in_features=1024, out_features=512, bias=False)\n",
       "              (dropout): Dropout(p=0.1, inplace=False)\n",
       "              (act): NewGELUActivation()\n",
       "            )\n",
       "            (layer_norm): MT5LayerNorm()\n",
       "            (dropout): Dropout(p=0.1, inplace=False)\n",
       "          )\n",
       "        )\n",
       "      )\n",
       "    )\n",
       "    (final_layer_norm): MT5LayerNorm()\n",
       "    (dropout): Dropout(p=0.1, inplace=False)\n",
       "  )\n",
       "  (decoder): MT5Stack(\n",
       "    (embed_tokens): Embedding(250112, 512)\n",
       "    (block): ModuleList(\n",
       "      (0): MT5Block(\n",
       "        (layer): ModuleList(\n",
       "          (0): MT5LayerSelfAttention(\n",
       "            (SelfAttention): MT5Attention(\n",
       "              (q): Linear(in_features=512, out_features=384, bias=False)\n",
       "              (k): Linear(in_features=512, out_features=384, bias=False)\n",
       "              (v): Linear(in_features=512, out_features=384, bias=False)\n",
       "              (o): Linear(in_features=384, out_features=512, bias=False)\n",
       "              (relative_attention_bias): Embedding(32, 6)\n",
       "            )\n",
       "            (layer_norm): MT5LayerNorm()\n",
       "            (dropout): Dropout(p=0.1, inplace=False)\n",
       "          )\n",
       "          (1): MT5LayerCrossAttention(\n",
       "            (EncDecAttention): MT5Attention(\n",
       "              (q): Linear(in_features=512, out_features=384, bias=False)\n",
       "              (k): Linear(in_features=512, out_features=384, bias=False)\n",
       "              (v): Linear(in_features=512, out_features=384, bias=False)\n",
       "              (o): Linear(in_features=384, out_features=512, bias=False)\n",
       "            )\n",
       "            (layer_norm): MT5LayerNorm()\n",
       "            (dropout): Dropout(p=0.1, inplace=False)\n",
       "          )\n",
       "          (2): MT5LayerFF(\n",
       "            (DenseReluDense): MT5DenseGatedActDense(\n",
       "              (wi_0): Linear(in_features=512, out_features=1024, bias=False)\n",
       "              (wi_1): Linear(in_features=512, out_features=1024, bias=False)\n",
       "              (wo): Linear(in_features=1024, out_features=512, bias=False)\n",
       "              (dropout): Dropout(p=0.1, inplace=False)\n",
       "              (act): NewGELUActivation()\n",
       "            )\n",
       "            (layer_norm): MT5LayerNorm()\n",
       "            (dropout): Dropout(p=0.1, inplace=False)\n",
       "          )\n",
       "        )\n",
       "      )\n",
       "      (1-7): 7 x MT5Block(\n",
       "        (layer): ModuleList(\n",
       "          (0): MT5LayerSelfAttention(\n",
       "            (SelfAttention): MT5Attention(\n",
       "              (q): Linear(in_features=512, out_features=384, bias=False)\n",
       "              (k): Linear(in_features=512, out_features=384, bias=False)\n",
       "              (v): Linear(in_features=512, out_features=384, bias=False)\n",
       "              (o): Linear(in_features=384, out_features=512, bias=False)\n",
       "            )\n",
       "            (layer_norm): MT5LayerNorm()\n",
       "            (dropout): Dropout(p=0.1, inplace=False)\n",
       "          )\n",
       "          (1): MT5LayerCrossAttention(\n",
       "            (EncDecAttention): MT5Attention(\n",
       "              (q): Linear(in_features=512, out_features=384, bias=False)\n",
       "              (k): Linear(in_features=512, out_features=384, bias=False)\n",
       "              (v): Linear(in_features=512, out_features=384, bias=False)\n",
       "              (o): Linear(in_features=384, out_features=512, bias=False)\n",
       "            )\n",
       "            (layer_norm): MT5LayerNorm()\n",
       "            (dropout): Dropout(p=0.1, inplace=False)\n",
       "          )\n",
       "          (2): MT5LayerFF(\n",
       "            (DenseReluDense): MT5DenseGatedActDense(\n",
       "              (wi_0): Linear(in_features=512, out_features=1024, bias=False)\n",
       "              (wi_1): Linear(in_features=512, out_features=1024, bias=False)\n",
       "              (wo): Linear(in_features=1024, out_features=512, bias=False)\n",
       "              (dropout): Dropout(p=0.1, inplace=False)\n",
       "              (act): NewGELUActivation()\n",
       "            )\n",
       "            (layer_norm): MT5LayerNorm()\n",
       "            (dropout): Dropout(p=0.1, inplace=False)\n",
       "          )\n",
       "        )\n",
       "      )\n",
       "    )\n",
       "    (final_layer_norm): MT5LayerNorm()\n",
       "    (dropout): Dropout(p=0.1, inplace=False)\n",
       "  )\n",
       "  (lm_head): Linear(in_features=512, out_features=250112, bias=False)\n",
       ")"
      ]
     },
     "execution_count": 3,
     "metadata": {},
     "output_type": "execute_result"
    }
   ],
   "source": [
    "tokenizer = AutoTokenizer.from_pretrained(\"VerbACxSS/sempl-it-mt5-small\")\n",
    "model = AutoModelForSeq2SeqLM.from_pretrained(\"VerbACxSS/sempl-it-mt5-small\")\n",
    "model.to('cuda')"
   ]
  },
  {
   "cell_type": "markdown",
   "metadata": {
    "id": "jvcgTTzMtJre"
   },
   "source": [
    "## Load datasets"
   ]
  },
  {
   "cell_type": "code",
   "execution_count": null,
   "metadata": {
    "ExecuteTime": {
     "end_time": "2024-01-10T18:28:08.863417300Z",
     "start_time": "2024-01-10T18:28:08.753771800Z"
    },
    "id": "X6KiE9ouIY5A"
   },
   "outputs": [],
   "source": [
    "train_df = pd.read_csv('../dataset/train.tsv', sep='\\t', encoding='utf-8')\n",
    "test_df = pd.read_csv('../dataset/test.tsv', sep='\\t', encoding='utf-8')\n",
    "val_df = pd.read_csv('../dataset/val.tsv', sep='\\t', encoding='utf-8')"
   ]
  },
  {
   "cell_type": "markdown",
   "metadata": {
    "id": "I0B2MMq3tLn1"
   },
   "source": [
    "## Utilities"
   ]
  },
  {
   "cell_type": "code",
   "execution_count": null,
   "metadata": {
    "ExecuteTime": {
     "end_time": "2024-01-10T18:28:09.215355500Z",
     "start_time": "2024-01-10T18:28:09.211840900Z"
    },
    "id": "0gK3m8G4JG3S"
   },
   "outputs": [],
   "source": [
    "PREFIX = \"semplifica: \"\n",
    "TOKENIZER_MAX_LENGHT = 1024\n",
    "\n",
    "def predict(samples_array, batch_size=16):\n",
    "  prompts = [PREFIX + s for s in samples_array]\n",
    "  batched_prompt = [prompts[i:i+batch_size] for i in range(0, len(prompts), batch_size)]\n",
    "\n",
    "  outputs = []\n",
    "  for batch in tqdm(batched_prompt):\n",
    "    x = tokenizer(batch, max_length=TOKENIZER_MAX_LENGHT, truncation=True, padding=True, return_tensors='pt').input_ids.to('cuda')\n",
    "    y =  model.generate(x, max_new_tokens=TOKENIZER_MAX_LENGHT)\n",
    "    decoded = tokenizer.batch_decode(y, skip_special_tokens=True, clean_up_tokenization_spaces=True, max_length=TOKENIZER_MAX_LENGHT, truncation=True)\n",
    "    outputs.extend(decoded)\n",
    "  return outputs"
   ]
  },
  {
   "cell_type": "markdown",
   "metadata": {
    "id": "q08YpCm6tP_9"
   },
   "source": [
    "## Random predictions"
   ]
  },
  {
   "cell_type": "code",
   "execution_count": null,
   "metadata": {
    "ExecuteTime": {
     "end_time": "2024-01-10T18:28:26.251092400Z",
     "start_time": "2024-01-10T18:28:11.520305800Z"
    },
    "colab": {
     "base_uri": "https://localhost:8080/"
    },
    "executionInfo": {
     "elapsed": 8866,
     "status": "ok",
     "timestamp": 1704723207637,
     "user": {
      "displayName": "Marco Russodivito",
      "userId": "05013084347772678948"
     },
     "user_tz": -60
    },
    "id": "-DgTSrZbJ8iD",
    "outputId": "7e50472c-15d2-43c1-d017-26c329eb4b9e"
   },
   "outputs": [
    {
     "name": "stderr",
     "output_type": "stream",
     "text": [
      "100%|██████████| 1/1 [00:01<00:00,  1.37s/it]\n"
     ]
    },
    {
     "name": "stdout",
     "output_type": "stream",
     "text": [
      "\n",
      "original:  Il Servizio Residenziale Terapeutico Riabilitativo è rivolto a pazienti con media-alta motivazione al cambiamento e risorse adeguate a intraprendere percorsi di comprensione della patologia e di modificazione dei patterns emotivo/cognitivo/comportamentali.\n",
      "\n",
      "oracle:  Il Servizio Residenziale Terapeutico Riabilitativo è pensato per persone che sono abbastanza motivate a cambiare e hanno le risorse necessarie per capire la loro malattia e migliorare il modo in cui pensano, si sentono e si comportano.\n",
      "\n",
      "model:  Il Servizio Residenziale Terapeutico Riabilitativo è pensato per pazienti con media-alta motivazione a cambiare e a prendere decisioni su come cambiare le loro emozioni e cambiare i motivi emotivi e comportamentali.\n",
      "----------------\n"
     ]
    },
    {
     "name": "stderr",
     "output_type": "stream",
     "text": [
      "100%|██████████| 1/1 [00:00<00:00,  1.18it/s]\n"
     ]
    },
    {
     "name": "stdout",
     "output_type": "stream",
     "text": [
      "\n",
      "original:  monitorare i consumi e la spesa dei DM e IVD e, in funzione delle priorità regionali, effettuare valutazioni per l'uso appropriato e razionale delle risorse; \n",
      "\n",
      "oracle:  Controllare quanto vengono utilizzati e quanto si spende per i dispositivi medici e i dispositivi diagnostici in vitro, e valutare se vengono usati in modo corretto e conveniente in base alle esigenze della regione.\n",
      "\n",
      "model:  Controllare i consumi e la spesa dei medici di base e delle scuole e dei servizi sanitari regionali. In base alle priorità regionali, fare valutazioni per usare adatti e razionali le risorse.\n",
      "----------------\n"
     ]
    },
    {
     "name": "stderr",
     "output_type": "stream",
     "text": [
      "100%|██████████| 1/1 [00:01<00:00,  1.50s/it]\n"
     ]
    },
    {
     "name": "stdout",
     "output_type": "stream",
     "text": [
      "\n",
      "original:  Sulla base delle analisi effettuate, delle criticità riscontrate e delle informazioni derivanti dall'analisi della reportistica, la Direzione e i singoli dirigenti effettuano una valutazione delle priorità, individuano e implementano specifiche azioni per il miglioramento:\n",
      "- delle modalità di partecipazione e coinvolgimento dei pazienti e dei familiari/caregiver;\n",
      "- della qualità delle informazioni ricevute dai pazienti su fattori significativi di promozione della salute relativi alla loro patologia e/o stato di salute\n",
      "\n",
      "oracle:  Dopo aver analizzato i dati e individuato i problemi, il team dirigente valuta le cose più importanti da fare e mette in atto azioni specifiche per migliorare:\n",
      "- il coinvolgimento dei pazienti e dei loro familiari nella gestione della salute\n",
      "- le informazioni che i pazienti ricevono riguardo alla loro condizione di salute e come mantenerla.\n",
      "\n",
      "model:  Dopo aver analizzato i problemi e le informazioni fatte, la Direzione e i responsabili valutano cosa è più importante, mettono in atto azioni specifiche per migliorare: - come partecipare e coinvolgere i pazienti e le loro famiglie o caregiver; - come ottenere informazioni importanti per promuovere la salute della loro malattia o stato di salute.\n",
      "----------------\n"
     ]
    },
    {
     "name": "stderr",
     "output_type": "stream",
     "text": [
      "100%|██████████| 1/1 [00:00<00:00,  1.66it/s]\n"
     ]
    },
    {
     "name": "stdout",
     "output_type": "stream",
     "text": [
      "\n",
      "original:  È buona prassi che l'organizzazione descriva la tipologia e le caratteristiche delle prestazioni e dei servizi erogati e individui i metodi di lavoro da adottarsi per la gestione dei processi di laboratorio sui quali fondare azioni successive di valutazione della performance e della comunicazione con gli utenti\n",
      "\n",
      "oracle:  È importante che un'organizzazione spieghi che tipo di servizi offre e come li gestisce. Questo serve a valutare se sta facendo un buon lavoro e a comunicare meglio con i clienti.\n",
      "\n",
      "model:  È importante che un'organizzazione spieghi quali servizi offre e come li svolge. Questo serve per valutare come funziona e comunicare meglio con i clienti.\n",
      "----------------\n"
     ]
    },
    {
     "name": "stderr",
     "output_type": "stream",
     "text": [
      "100%|██████████| 1/1 [00:01<00:00,  1.20s/it]\n"
     ]
    },
    {
     "name": "stdout",
     "output_type": "stream",
     "text": [
      "\n",
      "original:  comma 87. Le funzioni fondamentali di cui al comma 85 sono esercitate nei limiti e secondo le modalità stabilite dalla legislazione statale e regionale di settore, secondo la rispettiva competenza per materia ai sensi dell'articolo 117, commi secondo, terzo e quarto, della Costituzione.\n",
      "\n",
      "oracle:  La legge 87 stabilisce che le funzioni principali saranno svolte seguendo le regole stabilite dalla legge nazionale e regionale, ognuna nel proprio ambito di competenza come previsto dall'articolo 117 della Costituzione.\n",
      "\n",
      "model:  Le funzioni importanti del comma 85 sono esercitate nei limiti e seguendo le regole stabilite dalla legge regionale e regionale. Queste funzioni sono esercitate seguendo le regole stabilite dalla legge regionale e regionale, seguendo le regole dell'articolo 117, comma secondo, terzo e quarto, della Costituzione.\n",
      "----------------\n"
     ]
    },
    {
     "name": "stderr",
     "output_type": "stream",
     "text": [
      "100%|██████████| 1/1 [00:01<00:00,  1.70s/it]\n"
     ]
    },
    {
     "name": "stdout",
     "output_type": "stream",
     "text": [
      "\n",
      "original:  L'orientamento all'innalzamento della qualità dei servizi, soprattutto nella loro capacità di presa in carico globale e riabilitativa, induce a sviluppare e sostenere la diffusione di programmi di salute mentale improntati alla recovery e all'innalzamento del funzionamento sociale, anche in accordo al PANSM 2013, affinché i sevizi di salute mentale aggiornino i loro modelli operativi.\n",
      "\n",
      "oracle:  L'obiettivo di migliorare la qualità dei servizi è importante, soprattutto quando si tratta di prendersi cura delle persone in modo completo e di aiutarle a riprendersi. È necessario promuovere programmi di salute mentale che favoriscano il recupero e il miglioramento della vita sociale, seguendo le linee guida del Piano Nazionale della Salute Mentale del 2013. Questo perché i servizi di salute mentale devono essere aggiornati nei loro modi di lavorare.\n",
      "\n",
      "model:  L'orientamento a migliorare la qualità dei servizi, soprattutto nella loro capacità di cura e riabilitazione, aiuta a diffondere programmi di salute mentale che possono essere usati per essere risolti e a migliorare il funzionamento sociale, anche in accordo al Piano Sanitario Regionale 2013, per assicurarsi che i sevizi di salute mentale siano aggiorniti i loro modelli operativi.\n",
      "----------------\n"
     ]
    },
    {
     "name": "stderr",
     "output_type": "stream",
     "text": [
      "100%|██████████| 1/1 [00:01<00:00,  1.06s/it]\n"
     ]
    },
    {
     "name": "stdout",
     "output_type": "stream",
     "text": [
      "\n",
      "original:  vi è evidenza del monitoraggio e della valutazione dell'efficacia, almeno annuale, del piano aziendale per la gestione del rischio, delle attività realizzate, degli strumenti di prevenzione del rischio utilizzati, delle aree e dei processi a rischio individuati, degli obiettivi per la sicurezza e dei risultati raggiunti;\n",
      "\n",
      "oracle:  Viene controllato e valutato ogni anno se il piano aziendale per gestire i rischi è efficace, le attività svolte, gli strumenti usati per prevenire i rischi, le aree e i processi a rischio, gli obiettivi di sicurezza e i risultati ottenuti.\n",
      "\n",
      "model:  Si controlla e si valuta se il piano aziendale per gestire i rischi funziona bene, le attività svolte, gli strumenti per prevenire i rischi, le aree e i processi a rischio, gli obiettivi per la sicurezza e i risultati ottenuti.\n",
      "----------------\n"
     ]
    },
    {
     "name": "stderr",
     "output_type": "stream",
     "text": [
      "100%|██████████| 1/1 [00:03<00:00,  3.68s/it]\n"
     ]
    },
    {
     "name": "stdout",
     "output_type": "stream",
     "text": [
      "\n",
      "original:  Dall'analisi dei flussi di mobilità passiva della regione Molise, come rappresentato nella tabella seguente, è emerso quanto segue: nell'anno 2018, si sono registrati 10.270 casi, per un valore pari a 38,634 milioni di euro. Il 55% dei casi (59% del valore) è stato erogato da strutture private accreditate. Nel 2019 si sono registrati 10.119 casi, per un valore pari a 38,367 milioni di euro, con il 56% dei casi (61% del valore) erogato da strutture private accreditate. Nel 2020 si sono registrati 7.067 casi, per un valore pari a 27.835 milioni di euro, con il 57% dei casi (62% dei valori) erogato da strutture private accreditate. Le Regioni che assorbono la maggiore mobilità di casi nell'anno 2020 sono risultate essere: l'Abruzzo, il Lazio, la Puglia e la Campania. Tuttavia, i valori di mobilità passiva verso le regioni Emilia-Romagna e Lombardia, per l'anno 2020, risultano più elevati del valore della Campania, come anche negli anni 2018 e 2019.\n",
      "\n",
      "oracle:  Dall'analisi dei trasferimenti di persone dalla regione Molise, possiamo vedere che nel 2018 ci sono stati 10.270 casi, per un totale di 38,634 milioni di euro. Il 55% dei casi (59% del valore) è stato gestito da strutture private accreditate. Nel 2019 ci sono stati 10.119 casi, per un totale di 38,367 milioni di euro, con il 56% dei casi (61% del valore) gestito da strutture private accreditate. Nel 2020 ci sono stati 7.067 casi, per un totale di 27.835 milioni di euro, con il 57% dei casi (62% del valore) gestito da strutture private accreditate. Le regioni che hanno ricevuto il maggior numero di casi nel 2020 sono l'Abruzzo, il Lazio, la Puglia e la Campania. Tuttavia, i trasferimenti verso Emilia-Romagna e Lombardia nel 2020 sono stati più alti rispetto a quelli verso la Campania, così come negli anni 2018 e\n",
      "\n",
      "model:  Dall'analisi dei flussi di mobilità passiva della regione Molise, come indicato nella tabella qui sotto, è stato emerso quanto segue: Nel 2018, si sono registrati 10.270 casi, per un valore di 38,634 milioni di euro. Il 55% dei casi (59% del valore) è stato erogato da strutture private accreditate. Nel 2019 si sono registrati 10.119 casi, per un valore di 38,367 milioni di euro, con il 56% dei casi (61% del valore) erogato da strutture private accreditate. Nel 2020 si sono registrati 7.067 casi, per un valore di 27.835 milioni di euro, con il 57% dei casi (61% dei valori) erogato da strutture private accreditate. Le Regioni che hanno più mobilità di casi nel 2020 sono: l'Abruzzo, il Lazio, la Puglia e la Campania. Tuttavia, i valori di mobilità passiva verso le regioni Emilia-Romagna e Lombardia sono più elevati del valore della Campania, come negli anni 2018 e 2019.\n",
      "----------------\n"
     ]
    },
    {
     "name": "stderr",
     "output_type": "stream",
     "text": [
      "100%|██████████| 1/1 [00:00<00:00,  2.11it/s]\n"
     ]
    },
    {
     "name": "stdout",
     "output_type": "stream",
     "text": [
      "\n",
      "original:  l'ampliamento degli orari di visita e di assistenza per i familiari.\n",
      "\n",
      "oracle:  I tempi in cui i familiari possono visitare e aiutare i loro cari saranno più lunghi.\n",
      "\n",
      "model:  L'aumento degli orari di visita e assistenza per le famiglie è importante per i loro familiari.\n",
      "----------------\n"
     ]
    },
    {
     "name": "stderr",
     "output_type": "stream",
     "text": [
      "100%|██████████| 1/1 [00:02<00:00,  2.29s/it]"
     ]
    },
    {
     "name": "stdout",
     "output_type": "stream",
     "text": [
      "\n",
      "original:  Infine, un ambito strategico distinto dai precedenti e rispetto al quale è necessario intervenire, specie in prospettiva preventiva, riguarda l'individuazione precoce dei minori con problematiche comportamentali, in considerazione, da un lato, dell'incremento di tali situazioni di fragilità e disagio, dall'altro, dell'efficacia di programmi riabilitativi avviati già in età infantile nella modifica del decorso dei problemi di comportamento, con guadagni in termini di minori limitazioni e minor fabbisogno di sostegni in età adulta. A tal fine è prioritario prevede la sperimentazione di metodologie e strumenti multidimensionali per lo screening precoce delle predette problematiche comportamentali, con l'implementazione di tecniche riabilitative specifiche che contemplino anche il coinvolgimento diretto del mondo della scuola e della famiglia attraverso appositi percorsi formativi e informativi.\n",
      "\n",
      "oracle:  Un'altra area importante su cui concentrarsi è l'individuazione precoce dei bambini con problemi comportamentali. Questo è importante perché sempre più bambini stanno affrontando difficoltà e disagi, ma intervenire presto con programmi di riabilitazione può aiutare a cambiare il corso dei problemi comportamentali, riducendo le limitazioni e il bisogno di supporti da adulti. Per fare questo, è importante testare nuovi metodi per individuare presto questi problemi e sviluppare programmi di riabilitazione che coinvolgano la scuola e la famiglia attraverso corsi di formazione e informazione specifici.\n",
      "\n",
      "model:  Infine, un altro modo importante per individuare precocemente i minori con problemi comportamentali, considerando anche l'incremento di queste situazioni di fragilità e disagio. È importante sperimentare metodi e strumenti per controllare precocemente i problemi comportamentali, e potenziare i programmi riabilitativi già in età adulta per evitare limitazioni e bisogni di sostegni in età adulta. È importante anche sperimentare metodi per screening precoce i problemi comportamentali, e usare tecniche riabilitative specifiche per coinvolgere direttamente il mondo della scuola e della famiglia attraverso percorsi formativi e informativi.\n",
      "----------------\n"
     ]
    },
    {
     "name": "stderr",
     "output_type": "stream",
     "text": [
      "\n"
     ]
    }
   ],
   "source": [
    "for s in test_df.sample(10).to_dict(orient='records'):\n",
    "  output = predict([s['original_text']])[0]\n",
    "  print(\"\\noriginal: \", s['original_text'])\n",
    "  print(\"\\noracle: \", s['oracle_text'])\n",
    "  print(\"\\nmodel: \", output)\n",
    "  print('----------------')"
   ]
  },
  {
   "cell_type": "markdown",
   "metadata": {
    "id": "q76hte_4tUUQ"
   },
   "source": [
    "## Run all predictions"
   ]
  },
  {
   "cell_type": "code",
   "execution_count": null,
   "metadata": {
    "ExecuteTime": {
     "end_time": "2024-01-10T19:32:52.722078600Z",
     "start_time": "2024-01-10T18:28:26.251092400Z"
    },
    "colab": {
     "base_uri": "https://localhost:8080/"
    },
    "executionInfo": {
     "elapsed": 2714927,
     "status": "ok",
     "timestamp": 1704725961832,
     "user": {
      "displayName": "Marco Russodivito",
      "userId": "05013084347772678948"
     },
     "user_tz": -60
    },
    "id": "NbDDDdVLKxg7",
    "outputId": "2ef69302-c2e3-4f88-959e-2903734f523b"
   },
   "outputs": [
    {
     "name": "stderr",
     "output_type": "stream",
     "text": [
      "100%|██████████| 918/918 [51:50<00:00,  3.39s/it]  \n",
      "100%|██████████| 115/115 [06:19<00:00,  3.30s/it]\n",
      "100%|██████████| 115/115 [06:16<00:00,  3.27s/it]\n"
     ]
    }
   ],
   "source": [
    "train_df['model_text'] = predict(train_df['original_text'].tolist(), batch_size=16)\n",
    "test_df['model_text'] = predict(test_df['original_text'].tolist(), batch_size=16)\n",
    "val_df['model_text'] = predict(val_df['original_text'].tolist(), batch_size=16)"
   ]
  },
  {
   "cell_type": "markdown",
   "metadata": {
    "id": "742Uidc_tYe5"
   },
   "source": [
    "## Save simplified datasets"
   ]
  },
  {
   "cell_type": "code",
   "execution_count": null,
   "metadata": {
    "ExecuteTime": {
     "end_time": "2024-01-10T19:32:52.979912Z",
     "start_time": "2024-01-10T19:32:52.727098Z"
    },
    "id": "LcNZ9y7JLDH2"
   },
   "outputs": [],
   "source": [
    "train_df.to_csv('./train_simplified.tsv', index=False, sep='\\t')\n",
    "test_df.to_csv('./test_simplified.tsv', index=False, sep='\\t')\n",
    "val_df.to_csv('./val_simplified.tsv', index=False, sep='\\t')"
   ]
  }
 ],
 "metadata": {
  "accelerator": "GPU",
  "colab": {
   "collapsed_sections": [
    "ngy2NOGJtHDP",
    "jvcgTTzMtJre",
    "I0B2MMq3tLn1",
    "q08YpCm6tP_9",
    "q76hte_4tUUQ",
    "742Uidc_tYe5"
   ],
   "gpuType": "T4",
   "provenance": []
  },
  "gpuClass": "standard",
  "kernelspec": {
   "display_name": "Python 3 (ipykernel)",
   "language": "python",
   "name": "python3"
  },
  "language_info": {
   "name": "python"
  }
 },
 "nbformat": 4,
 "nbformat_minor": 0
}
