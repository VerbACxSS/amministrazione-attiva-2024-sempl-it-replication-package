{
 "cells": [
  {
   "cell_type": "markdown",
   "metadata": {
    "id": "X6Cz36RKs9W9"
   },
   "source": [
    "# Inference"
   ]
  },
  {
   "cell_type": "markdown",
   "metadata": {
    "id": "U1yzKv4WBWDn"
   },
   "source": [
    "## Dependencies and imports"
   ]
  },
  {
   "cell_type": "code",
   "execution_count": null,
   "metadata": {
    "id": "tSDf1n7iIJo_"
   },
   "outputs": [],
   "source": [
    "import os\n",
    "\n",
    "import numpy as np\n",
    "import pandas as pd\n",
    "from tqdm import tqdm\n",
    "\n",
    "from openai import OpenAI"
   ]
  },
  {
   "cell_type": "markdown",
   "metadata": {
    "id": "W7ODyTS9rX3s"
   },
   "source": [
    "## Utility"
   ]
  },
  {
   "cell_type": "code",
   "execution_count": null,
   "metadata": {
    "id": "cvCqGd8trX3t"
   },
   "outputs": [],
   "source": [
    "PROMPT = \"Sei un dipendente pubblico che deve scrivere dei documenti istituzionali italiani per renderli semplici e comprensibili per i cittadini. Ti verrà fornito un documento pubblico e il tuo compito sarà quello di riscriverlo applicando regole di semplificazione senza però modificare il significato del documento originale. Ad esempio potresti rendere le frasi più brevi, eliminare le perifrasi, esplicitare sempre il soggetto, utilizzare parole più semplicii, trasformare i verbi passivi in verbi di forma attiva, spostare le frasi parentetiche alla fine del periodo.\""
   ]
  },
  {
   "cell_type": "code",
   "execution_count": null,
   "metadata": {
    "id": "OknJILjcrX3t"
   },
   "outputs": [],
   "source": [
    "openai_client = OpenAI(api_key=os.getenv('OPENAI_API_KEY'))\n",
    "\n",
    "def build_prompt(_text_to_simplify):\n",
    "    messages = [\n",
    "        {\"role\": \"system\", \"content\": PROMPT},\n",
    "        {\"role\": \"user\", \"content\": _text_to_simplify},\n",
    "    ]\n",
    "    return messages\n",
    "\n",
    "\n",
    "def predict(_texts_to_simplify):\n",
    "    prompts = [build_prompt(_text) for _text in _texts_to_simplify]\n",
    "\n",
    "    outputs = []\n",
    "    for prompt in tqdm(prompts):\n",
    "        response = openai_client.chat.completions.create(\n",
    "            model='gpt-3.5-turbo-0125',\n",
    "            messages=prompt,\n",
    "            stream=False,\n",
    "            temperature=0.2,\n",
    "            top_p=0.1\n",
    "        )\n",
    "        outputs.append(response.choices[0].message.content)\n",
    "    return outputs"
   ]
  },
  {
   "cell_type": "markdown",
   "metadata": {
    "id": "jvcgTTzMtJre"
   },
   "source": [
    "## Load datasets"
   ]
  },
  {
   "cell_type": "code",
   "execution_count": null,
   "metadata": {
    "id": "X6KiE9ouIY5A"
   },
   "outputs": [],
   "source": [
    "df = pd.read_csv('./texts/original.csv', encoding='utf-8')"
   ]
  },
  {
   "cell_type": "markdown",
   "metadata": {
    "id": "q08YpCm6tP_9"
   },
   "source": [
    "## Random predictions"
   ]
  },
  {
   "cell_type": "code",
   "execution_count": null,
   "metadata": {
    "colab": {
     "base_uri": "https://localhost:8080/"
    },
    "executionInfo": {
     "elapsed": 2124,
     "status": "ok",
     "timestamp": 1715330970886,
     "user": {
      "displayName": "Marco Russodivito",
      "userId": "05013084347772678948"
     },
     "user_tz": -120
    },
    "id": "-DgTSrZbJ8iD",
    "outputId": "8ffab3cc-533f-44b8-ece2-fa38792da0bc"
   },
   "outputs": [
    {
     "name": "stderr",
     "output_type": "stream",
     "text": [
      "100%|██████████| 1/1 [00:01<00:00,  1.87s/it]"
     ]
    },
    {
     "name": "stdout",
     "output_type": "stream",
     "text": [
      "\n",
      "original:  L'organizzazione dei servizi è definita dal progetto approvato dal Comune di Viterbo, disponibile e consultabile da tutti presso gli uffici del Comune di Viterbo, del soggetto gestore ATI e dell'azienda esecutrice dei servizi.\n",
      "\n",
      "model:  Il progetto che definisce l'organizzazione dei servizi è stato approvato dal Comune di Viterbo. È possibile consultarlo presso gli uffici del Comune, del soggetto gestore ATI e dell'azienda che esegue i servizi.\n",
      "----------------\n"
     ]
    },
    {
     "name": "stderr",
     "output_type": "stream",
     "text": [
      "\n"
     ]
    }
   ],
   "source": [
    "for s in df.sample(1).to_dict(orient='records'):\n",
    "  output = predict([s['original_text']])[0]\n",
    "  print(\"\\noriginal: \", s['original_text'])\n",
    "  print(\"\\nmodel: \", output)\n",
    "  print('----------------')"
   ]
  },
  {
   "cell_type": "markdown",
   "metadata": {
    "id": "q76hte_4tUUQ"
   },
   "source": [
    "## Run all predictions"
   ]
  },
  {
   "cell_type": "code",
   "execution_count": null,
   "metadata": {
    "colab": {
     "base_uri": "https://localhost:8080/"
    },
    "executionInfo": {
     "elapsed": 1415761,
     "status": "ok",
     "timestamp": 1715332404140,
     "user": {
      "displayName": "Marco Russodivito",
      "userId": "05013084347772678948"
     },
     "user_tz": -120
    },
    "id": "NbDDDdVLKxg7",
    "outputId": "72c230cb-b7ce-4829-80fa-d708103ce978"
   },
   "outputs": [
    {
     "name": "stderr",
     "output_type": "stream",
     "text": [
      "100%|██████████| 619/619 [23:35<00:00,  2.29s/it]\n"
     ]
    }
   ],
   "source": [
    "df['simplified_text'] = predict(df['original_text'].tolist())"
   ]
  },
  {
   "cell_type": "markdown",
   "metadata": {
    "id": "742Uidc_tYe5"
   },
   "source": [
    "## Save simplified datasets"
   ]
  },
  {
   "cell_type": "code",
   "execution_count": null,
   "metadata": {
    "id": "LcNZ9y7JLDH2"
   },
   "outputs": [],
   "source": [
    "df.to_csv('./texts/gpt3_5.csv', index=False)"
   ]
  }
 ],
 "metadata": {
  "colab": {
   "provenance": []
  },
  "kernelspec": {
   "display_name": "Python 3",
   "name": "python3"
  },
  "language_info": {
   "name": "python"
  }
 },
 "nbformat": 4,
 "nbformat_minor": 0
}
