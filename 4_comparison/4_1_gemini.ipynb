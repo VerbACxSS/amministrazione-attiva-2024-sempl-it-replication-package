{
 "cells": [
  {
   "cell_type": "markdown",
   "metadata": {
    "id": "X6Cz36RKs9W9"
   },
   "source": [
    "# Inference"
   ]
  },
  {
   "cell_type": "markdown",
   "metadata": {
    "id": "U1yzKv4WBWDn"
   },
   "source": [
    "## Dependencies and imports"
   ]
  },
  {
   "cell_type": "code",
   "execution_count": 2,
   "metadata": {
    "executionInfo": {
     "elapsed": 2996,
     "status": "ok",
     "timestamp": 1716120823731,
     "user": {
      "displayName": "Marco Russodivito",
      "userId": "05013084347772678948"
     },
     "user_tz": -120
    },
    "id": "tSDf1n7iIJo_"
   },
   "outputs": [],
   "source": [
    "import os\n",
    "\n",
    "import time\n",
    "import numpy as np\n",
    "import pandas as pd\n",
    "from tqdm import tqdm\n",
    "\n",
    "import google.generativeai as genai"
   ]
  },
  {
   "cell_type": "markdown",
   "metadata": {
    "id": "W7ODyTS9rX3s"
   },
   "source": [
    "## Utility"
   ]
  },
  {
   "cell_type": "code",
   "execution_count": 4,
   "metadata": {
    "executionInfo": {
     "elapsed": 2,
     "status": "ok",
     "timestamp": 1716120843490,
     "user": {
      "displayName": "Marco Russodivito",
      "userId": "05013084347772678948"
     },
     "user_tz": -120
    },
    "id": "cvCqGd8trX3t"
   },
   "outputs": [],
   "source": [
    "PROMPT = \"Sei un dipendente pubblico che deve scrivere dei documenti istituzionali italiani per renderli semplici e comprensibili per i cittadini. Ti verrà fornito un documento pubblico e il tuo compito sarà quello di riscriverlo applicando regole di semplificazione senza però modificare il significato del documento originale. Ad esempio potresti rendere le frasi più brevi, eliminare le perifrasi, esplicitare sempre il soggetto, utilizzare parole più semplicii, trasformare i verbi passivi in verbi di forma attiva, spostare le frasi parentetiche alla fine del periodo.\""
   ]
  },
  {
   "cell_type": "code",
   "execution_count": 5,
   "metadata": {
    "executionInfo": {
     "elapsed": 1045,
     "status": "ok",
     "timestamp": 1716120844533,
     "user": {
      "displayName": "Marco Russodivito",
      "userId": "05013084347772678948"
     },
     "user_tz": -120
    },
    "id": "OknJILjcrX3t"
   },
   "outputs": [],
   "source": [
    "genai.configure(api_key=os.getenv(\"GEMINI_API_KEY\"))\n",
    "\n",
    "generation_config = {\n",
    "  \"candidate_count\": 1,\n",
    "  \"temperature\": 0.2,\n",
    "  \"top_p\": 0.1,\n",
    "  \"max_output_tokens\": 8192,\n",
    "  \"response_mime_type\": \"text/plain\",\n",
    "}\n",
    "safety_settings = [\n",
    "  {\n",
    "    \"category\": \"HARM_CATEGORY_HARASSMENT\",\n",
    "    \"threshold\": \"BLOCK_NONE\",\n",
    "  },\n",
    "  {\n",
    "    \"category\": \"HARM_CATEGORY_HATE_SPEECH\",\n",
    "    \"threshold\": \"BLOCK_NONE\",\n",
    "  },\n",
    "  {\n",
    "    \"category\": \"HARM_CATEGORY_SEXUALLY_EXPLICIT\",\n",
    "    \"threshold\": \"BLOCK_NONE\",\n",
    "  },\n",
    "  {\n",
    "    \"category\": \"HARM_CATEGORY_DANGEROUS_CONTENT\",\n",
    "    \"threshold\": \"BLOCK_NONE\",\n",
    "  },\n",
    "]\n",
    "\n",
    "model = genai.GenerativeModel(\n",
    "  model_name=\"gemini-1.5-flash-latest\",\n",
    "  safety_settings=safety_settings,\n",
    "  generation_config=generation_config,\n",
    "  system_instruction=PROMPT,\n",
    ")\n",
    "\n",
    "def predict(_texts_to_simplify):\n",
    "  chat_session = model.start_chat(\n",
    "    history=[]\n",
    "  )\n",
    "\n",
    "  outputs = []\n",
    "  for _text_to_simplify in tqdm(_texts_to_simplify):\n",
    "    try:\n",
    "      response = chat_session.send_message(_text_to_simplify)\n",
    "      outputs.append(response.candidates[0].content.parts[0].text)\n",
    "      time.sleep(4)\n",
    "    except Exception as e:\n",
    "      print(_text_to_simplify, e)\n",
    "      outputs.append(\"TODO: manual\")\n",
    "  return outputs"
   ]
  },
  {
   "cell_type": "markdown",
   "metadata": {
    "id": "jvcgTTzMtJre"
   },
   "source": [
    "## Load datasets"
   ]
  },
  {
   "cell_type": "code",
   "execution_count": 6,
   "metadata": {
    "executionInfo": {
     "elapsed": 1780,
     "status": "ok",
     "timestamp": 1716120846311,
     "user": {
      "displayName": "Marco Russodivito",
      "userId": "05013084347772678948"
     },
     "user_tz": -120
    },
    "id": "X6KiE9ouIY5A"
   },
   "outputs": [],
   "source": [
    "df = pd.read_csv('./texts/original.csv',encoding='utf-8')"
   ]
  },
  {
   "cell_type": "markdown",
   "metadata": {
    "id": "q08YpCm6tP_9"
   },
   "source": [
    "## Random predictions"
   ]
  },
  {
   "cell_type": "code",
   "execution_count": 7,
   "metadata": {
    "colab": {
     "base_uri": "https://localhost:8080/",
     "height": 280
    },
    "executionInfo": {
     "elapsed": 6683,
     "status": "ok",
     "timestamp": 1716120852991,
     "user": {
      "displayName": "Marco Russodivito",
      "userId": "05013084347772678948"
     },
     "user_tz": -120
    },
    "id": "-DgTSrZbJ8iD",
    "outputId": "ebad119c-ac3a-439d-a135-88abcec3f10f"
   },
   "outputs": [
    {
     "name": "stderr",
     "output_type": "stream",
     "text": [
      "100%|██████████| 1/1 [00:06<00:00,  6.61s/it]"
     ]
    },
    {
     "name": "stdout",
     "output_type": "stream",
     "text": [
      "\n",
      "original:  Mediante libero accesso agli uffici negli orari di apertura al pubblico si effettuano le seguenti prestazioni: \n",
      "- Informazioni generali; \n",
      "- Informazioni e chiarimenti relativi ad eventuali preavvisi di contravvenzione; \n",
      "- Ritiro e consegna atti\n",
      "\n",
      "model:  Puoi venire negli uffici durante gli orari di apertura al pubblico per:\n",
      "\n",
      "* Chiedere informazioni generali.\n",
      "* Ricevere informazioni e chiarimenti sulle multe che ti sono state notificate.\n",
      "* Ritirare e consegnare documenti. \n",
      "\n",
      "----------------\n"
     ]
    },
    {
     "name": "stderr",
     "output_type": "stream",
     "text": [
      "\n"
     ]
    }
   ],
   "source": [
    "for s in df.sample(1).to_dict(orient='records'):\n",
    "  output = predict([s['original_text']])[0]\n",
    "  print(\"\\noriginal: \", s['original_text'])\n",
    "  print(\"\\nmodel: \", output)\n",
    "  print('----------------')"
   ]
  },
  {
   "cell_type": "markdown",
   "metadata": {
    "id": "q76hte_4tUUQ"
   },
   "source": [
    "## Run all predictions"
   ]
  },
  {
   "cell_type": "code",
   "execution_count": null,
   "metadata": {
    "colab": {
     "base_uri": "https://localhost:8080/",
     "height": 1000
    },
    "executionInfo": {
     "elapsed": 5263532,
     "status": "error",
     "timestamp": 1716126116514,
     "user": {
      "displayName": "Marco Russodivito",
      "userId": "05013084347772678948"
     },
     "user_tz": -120
    },
    "id": "NbDDDdVLKxg7",
    "outputId": "a3eebd3c-77bb-4c20-b8fc-8ea76f95ca1c"
   },
   "outputs": [],
   "source": [
    "df['simplified_text'] = predict(df['original_text'].tolist())"
   ]
  },
  {
   "cell_type": "markdown",
   "metadata": {
    "id": "742Uidc_tYe5"
   },
   "source": [
    "## Save simplified datasets"
   ]
  },
  {
   "cell_type": "code",
   "execution_count": 9,
   "metadata": {
    "executionInfo": {
     "elapsed": 2,
     "status": "ok",
     "timestamp": 1716126116515,
     "user": {
      "displayName": "Marco Russodivito",
      "userId": "05013084347772678948"
     },
     "user_tz": -120
    },
    "id": "LcNZ9y7JLDH2"
   },
   "outputs": [],
   "source": [
    "df.to_csv('./texts/gemini.csv', index=False)"
   ]
  }
 ],
 "metadata": {
  "colab": {
   "provenance": []
  },
  "kernelspec": {
   "display_name": "Python 3",
   "name": "python3"
  },
  "language_info": {
   "name": "python"
  }
 },
 "nbformat": 4,
 "nbformat_minor": 0
}
